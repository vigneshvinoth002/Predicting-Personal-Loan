{
  "nbformat": 4,
  "nbformat_minor": 0,
  "metadata": {
    "colab": {
      "provenance": []
    },
    "kernelspec": {
      "name": "python3",
      "display_name": "Python 3"
    },
    "language_info": {
      "name": "python"
    }
  },
  "cells": [
    {
      "cell_type": "code",
      "execution_count": null,
      "metadata": {
        "id": "jJwprxC2iDad"
      },
      "outputs": [],
      "source": [
        "\n",
        "import pandas as pd\n",
        "import numpy as np\n",
        "import pickle\n",
        "import matplotlib.pyplot as plt\n",
        "%matplotlib inline\n",
        "import seaborn as sns\n",
        "import sklearn\n",
        "from sklearn.tree import DecisionTreeClassifier\n",
        "from sklearn.ensemble import GradientBoostingClassifier, RandomForestClassifier\n",
        "from sklearn.neighbors import KNeighborsClassifier\n",
        "from sklearn.model_selection import RandomizedSearchCV\n",
        "import imblearn\n",
        "from sklearn.model_selection import train_test_split\n",
        "from sklearn.preprocessing import StandardScaler\n",
        "from sklearn.metrics import accuracy_score, classification_report, confusion_matrix, f1_score\n",
        "import warnings\n",
        "warnings.filterwarnings('ignore')\n",
        "\n",
        "     "
      ]
    },
    {
      "cell_type": "code",
      "source": [
        "df = pd.read_csv('/content/train_u6lujuX_CVtuZ9i.csv')\n",
        "df\n"
      ],
      "metadata": {
        "colab": {
          "base_uri": "https://localhost:8080/",
          "height": 505
        },
        "id": "bjRU3gfficFA",
        "outputId": "3e630afc-7af4-4bac-c64f-8c15bdfe02ad"
      },
      "execution_count": null,
      "outputs": [
        {
          "output_type": "execute_result",
          "data": {
            "text/plain": [
              "      Loan_ID  Gender Married Dependents     Education Self_Employed  \\\n",
              "0    LP001002    Male      No          0      Graduate            No   \n",
              "1    LP001003    Male     Yes          1      Graduate            No   \n",
              "2    LP001005    Male     Yes          0      Graduate           Yes   \n",
              "3    LP001006    Male     Yes          0  Not Graduate            No   \n",
              "4    LP001008    Male      No          0      Graduate            No   \n",
              "..        ...     ...     ...        ...           ...           ...   \n",
              "609  LP002978  Female      No          0      Graduate            No   \n",
              "610  LP002979    Male     Yes         3+      Graduate            No   \n",
              "611  LP002983    Male     Yes          1      Graduate            No   \n",
              "612  LP002984    Male     Yes          2      Graduate            No   \n",
              "613  LP002990  Female      No          0      Graduate           Yes   \n",
              "\n",
              "     ApplicantIncome  CoapplicantIncome  LoanAmount  Loan_Amount_Term  \\\n",
              "0               5849                0.0         NaN             360.0   \n",
              "1               4583             1508.0       128.0             360.0   \n",
              "2               3000                0.0        66.0             360.0   \n",
              "3               2583             2358.0       120.0             360.0   \n",
              "4               6000                0.0       141.0             360.0   \n",
              "..               ...                ...         ...               ...   \n",
              "609             2900                0.0        71.0             360.0   \n",
              "610             4106                0.0        40.0             180.0   \n",
              "611             8072              240.0       253.0             360.0   \n",
              "612             7583                0.0       187.0             360.0   \n",
              "613             4583                0.0       133.0             360.0   \n",
              "\n",
              "     Credit_History Property_Area Loan_Status  \n",
              "0               1.0         Urban           Y  \n",
              "1               1.0         Rural           N  \n",
              "2               1.0         Urban           Y  \n",
              "3               1.0         Urban           Y  \n",
              "4               1.0         Urban           Y  \n",
              "..              ...           ...         ...  \n",
              "609             1.0         Rural           Y  \n",
              "610             1.0         Rural           Y  \n",
              "611             1.0         Urban           Y  \n",
              "612             1.0         Urban           Y  \n",
              "613             0.0     Semiurban           N  \n",
              "\n",
              "[614 rows x 13 columns]"
            ],
            "text/html": [
              "\n",
              "  <div id=\"df-b44aff99-5dca-47a6-b013-a88e9c159872\">\n",
              "    <div class=\"colab-df-container\">\n",
              "      <div>\n",
              "<style scoped>\n",
              "    .dataframe tbody tr th:only-of-type {\n",
              "        vertical-align: middle;\n",
              "    }\n",
              "\n",
              "    .dataframe tbody tr th {\n",
              "        vertical-align: top;\n",
              "    }\n",
              "\n",
              "    .dataframe thead th {\n",
              "        text-align: right;\n",
              "    }\n",
              "</style>\n",
              "<table border=\"1\" class=\"dataframe\">\n",
              "  <thead>\n",
              "    <tr style=\"text-align: right;\">\n",
              "      <th></th>\n",
              "      <th>Loan_ID</th>\n",
              "      <th>Gender</th>\n",
              "      <th>Married</th>\n",
              "      <th>Dependents</th>\n",
              "      <th>Education</th>\n",
              "      <th>Self_Employed</th>\n",
              "      <th>ApplicantIncome</th>\n",
              "      <th>CoapplicantIncome</th>\n",
              "      <th>LoanAmount</th>\n",
              "      <th>Loan_Amount_Term</th>\n",
              "      <th>Credit_History</th>\n",
              "      <th>Property_Area</th>\n",
              "      <th>Loan_Status</th>\n",
              "    </tr>\n",
              "  </thead>\n",
              "  <tbody>\n",
              "    <tr>\n",
              "      <th>0</th>\n",
              "      <td>LP001002</td>\n",
              "      <td>Male</td>\n",
              "      <td>No</td>\n",
              "      <td>0</td>\n",
              "      <td>Graduate</td>\n",
              "      <td>No</td>\n",
              "      <td>5849</td>\n",
              "      <td>0.0</td>\n",
              "      <td>NaN</td>\n",
              "      <td>360.0</td>\n",
              "      <td>1.0</td>\n",
              "      <td>Urban</td>\n",
              "      <td>Y</td>\n",
              "    </tr>\n",
              "    <tr>\n",
              "      <th>1</th>\n",
              "      <td>LP001003</td>\n",
              "      <td>Male</td>\n",
              "      <td>Yes</td>\n",
              "      <td>1</td>\n",
              "      <td>Graduate</td>\n",
              "      <td>No</td>\n",
              "      <td>4583</td>\n",
              "      <td>1508.0</td>\n",
              "      <td>128.0</td>\n",
              "      <td>360.0</td>\n",
              "      <td>1.0</td>\n",
              "      <td>Rural</td>\n",
              "      <td>N</td>\n",
              "    </tr>\n",
              "    <tr>\n",
              "      <th>2</th>\n",
              "      <td>LP001005</td>\n",
              "      <td>Male</td>\n",
              "      <td>Yes</td>\n",
              "      <td>0</td>\n",
              "      <td>Graduate</td>\n",
              "      <td>Yes</td>\n",
              "      <td>3000</td>\n",
              "      <td>0.0</td>\n",
              "      <td>66.0</td>\n",
              "      <td>360.0</td>\n",
              "      <td>1.0</td>\n",
              "      <td>Urban</td>\n",
              "      <td>Y</td>\n",
              "    </tr>\n",
              "    <tr>\n",
              "      <th>3</th>\n",
              "      <td>LP001006</td>\n",
              "      <td>Male</td>\n",
              "      <td>Yes</td>\n",
              "      <td>0</td>\n",
              "      <td>Not Graduate</td>\n",
              "      <td>No</td>\n",
              "      <td>2583</td>\n",
              "      <td>2358.0</td>\n",
              "      <td>120.0</td>\n",
              "      <td>360.0</td>\n",
              "      <td>1.0</td>\n",
              "      <td>Urban</td>\n",
              "      <td>Y</td>\n",
              "    </tr>\n",
              "    <tr>\n",
              "      <th>4</th>\n",
              "      <td>LP001008</td>\n",
              "      <td>Male</td>\n",
              "      <td>No</td>\n",
              "      <td>0</td>\n",
              "      <td>Graduate</td>\n",
              "      <td>No</td>\n",
              "      <td>6000</td>\n",
              "      <td>0.0</td>\n",
              "      <td>141.0</td>\n",
              "      <td>360.0</td>\n",
              "      <td>1.0</td>\n",
              "      <td>Urban</td>\n",
              "      <td>Y</td>\n",
              "    </tr>\n",
              "    <tr>\n",
              "      <th>...</th>\n",
              "      <td>...</td>\n",
              "      <td>...</td>\n",
              "      <td>...</td>\n",
              "      <td>...</td>\n",
              "      <td>...</td>\n",
              "      <td>...</td>\n",
              "      <td>...</td>\n",
              "      <td>...</td>\n",
              "      <td>...</td>\n",
              "      <td>...</td>\n",
              "      <td>...</td>\n",
              "      <td>...</td>\n",
              "      <td>...</td>\n",
              "    </tr>\n",
              "    <tr>\n",
              "      <th>609</th>\n",
              "      <td>LP002978</td>\n",
              "      <td>Female</td>\n",
              "      <td>No</td>\n",
              "      <td>0</td>\n",
              "      <td>Graduate</td>\n",
              "      <td>No</td>\n",
              "      <td>2900</td>\n",
              "      <td>0.0</td>\n",
              "      <td>71.0</td>\n",
              "      <td>360.0</td>\n",
              "      <td>1.0</td>\n",
              "      <td>Rural</td>\n",
              "      <td>Y</td>\n",
              "    </tr>\n",
              "    <tr>\n",
              "      <th>610</th>\n",
              "      <td>LP002979</td>\n",
              "      <td>Male</td>\n",
              "      <td>Yes</td>\n",
              "      <td>3+</td>\n",
              "      <td>Graduate</td>\n",
              "      <td>No</td>\n",
              "      <td>4106</td>\n",
              "      <td>0.0</td>\n",
              "      <td>40.0</td>\n",
              "      <td>180.0</td>\n",
              "      <td>1.0</td>\n",
              "      <td>Rural</td>\n",
              "      <td>Y</td>\n",
              "    </tr>\n",
              "    <tr>\n",
              "      <th>611</th>\n",
              "      <td>LP002983</td>\n",
              "      <td>Male</td>\n",
              "      <td>Yes</td>\n",
              "      <td>1</td>\n",
              "      <td>Graduate</td>\n",
              "      <td>No</td>\n",
              "      <td>8072</td>\n",
              "      <td>240.0</td>\n",
              "      <td>253.0</td>\n",
              "      <td>360.0</td>\n",
              "      <td>1.0</td>\n",
              "      <td>Urban</td>\n",
              "      <td>Y</td>\n",
              "    </tr>\n",
              "    <tr>\n",
              "      <th>612</th>\n",
              "      <td>LP002984</td>\n",
              "      <td>Male</td>\n",
              "      <td>Yes</td>\n",
              "      <td>2</td>\n",
              "      <td>Graduate</td>\n",
              "      <td>No</td>\n",
              "      <td>7583</td>\n",
              "      <td>0.0</td>\n",
              "      <td>187.0</td>\n",
              "      <td>360.0</td>\n",
              "      <td>1.0</td>\n",
              "      <td>Urban</td>\n",
              "      <td>Y</td>\n",
              "    </tr>\n",
              "    <tr>\n",
              "      <th>613</th>\n",
              "      <td>LP002990</td>\n",
              "      <td>Female</td>\n",
              "      <td>No</td>\n",
              "      <td>0</td>\n",
              "      <td>Graduate</td>\n",
              "      <td>Yes</td>\n",
              "      <td>4583</td>\n",
              "      <td>0.0</td>\n",
              "      <td>133.0</td>\n",
              "      <td>360.0</td>\n",
              "      <td>0.0</td>\n",
              "      <td>Semiurban</td>\n",
              "      <td>N</td>\n",
              "    </tr>\n",
              "  </tbody>\n",
              "</table>\n",
              "<p>614 rows × 13 columns</p>\n",
              "</div>\n",
              "      <button class=\"colab-df-convert\" onclick=\"convertToInteractive('df-b44aff99-5dca-47a6-b013-a88e9c159872')\"\n",
              "              title=\"Convert this dataframe to an interactive table.\"\n",
              "              style=\"display:none;\">\n",
              "        \n",
              "  <svg xmlns=\"http://www.w3.org/2000/svg\" height=\"24px\"viewBox=\"0 0 24 24\"\n",
              "       width=\"24px\">\n",
              "    <path d=\"M0 0h24v24H0V0z\" fill=\"none\"/>\n",
              "    <path d=\"M18.56 5.44l.94 2.06.94-2.06 2.06-.94-2.06-.94-.94-2.06-.94 2.06-2.06.94zm-11 1L8.5 8.5l.94-2.06 2.06-.94-2.06-.94L8.5 2.5l-.94 2.06-2.06.94zm10 10l.94 2.06.94-2.06 2.06-.94-2.06-.94-.94-2.06-.94 2.06-2.06.94z\"/><path d=\"M17.41 7.96l-1.37-1.37c-.4-.4-.92-.59-1.43-.59-.52 0-1.04.2-1.43.59L10.3 9.45l-7.72 7.72c-.78.78-.78 2.05 0 2.83L4 21.41c.39.39.9.59 1.41.59.51 0 1.02-.2 1.41-.59l7.78-7.78 2.81-2.81c.8-.78.8-2.07 0-2.86zM5.41 20L4 18.59l7.72-7.72 1.47 1.35L5.41 20z\"/>\n",
              "  </svg>\n",
              "      </button>\n",
              "      \n",
              "  <style>\n",
              "    .colab-df-container {\n",
              "      display:flex;\n",
              "      flex-wrap:wrap;\n",
              "      gap: 12px;\n",
              "    }\n",
              "\n",
              "    .colab-df-convert {\n",
              "      background-color: #E8F0FE;\n",
              "      border: none;\n",
              "      border-radius: 50%;\n",
              "      cursor: pointer;\n",
              "      display: none;\n",
              "      fill: #1967D2;\n",
              "      height: 32px;\n",
              "      padding: 0 0 0 0;\n",
              "      width: 32px;\n",
              "    }\n",
              "\n",
              "    .colab-df-convert:hover {\n",
              "      background-color: #E2EBFA;\n",
              "      box-shadow: 0px 1px 2px rgba(60, 64, 67, 0.3), 0px 1px 3px 1px rgba(60, 64, 67, 0.15);\n",
              "      fill: #174EA6;\n",
              "    }\n",
              "\n",
              "    [theme=dark] .colab-df-convert {\n",
              "      background-color: #3B4455;\n",
              "      fill: #D2E3FC;\n",
              "    }\n",
              "\n",
              "    [theme=dark] .colab-df-convert:hover {\n",
              "      background-color: #434B5C;\n",
              "      box-shadow: 0px 1px 3px 1px rgba(0, 0, 0, 0.15);\n",
              "      filter: drop-shadow(0px 1px 2px rgba(0, 0, 0, 0.3));\n",
              "      fill: #FFFFFF;\n",
              "    }\n",
              "  </style>\n",
              "\n",
              "      <script>\n",
              "        const buttonEl =\n",
              "          document.querySelector('#df-b44aff99-5dca-47a6-b013-a88e9c159872 button.colab-df-convert');\n",
              "        buttonEl.style.display =\n",
              "          google.colab.kernel.accessAllowed ? 'block' : 'none';\n",
              "\n",
              "        async function convertToInteractive(key) {\n",
              "          const element = document.querySelector('#df-b44aff99-5dca-47a6-b013-a88e9c159872');\n",
              "          const dataTable =\n",
              "            await google.colab.kernel.invokeFunction('convertToInteractive',\n",
              "                                                     [key], {});\n",
              "          if (!dataTable) return;\n",
              "\n",
              "          const docLinkHtml = 'Like what you see? Visit the ' +\n",
              "            '<a target=\"_blank\" href=https://colab.research.google.com/notebooks/data_table.ipynb>data table notebook</a>'\n",
              "            + ' to learn more about interactive tables.';\n",
              "          element.innerHTML = '';\n",
              "          dataTable['output_type'] = 'display_data';\n",
              "          await google.colab.output.renderOutput(dataTable, element);\n",
              "          const docLink = document.createElement('div');\n",
              "          docLink.innerHTML = docLinkHtml;\n",
              "          element.appendChild(docLink);\n",
              "        }\n",
              "      </script>\n",
              "    </div>\n",
              "  </div>\n",
              "  "
            ]
          },
          "metadata": {},
          "execution_count": 65
        }
      ]
    },
    {
      "cell_type": "code",
      "source": [
        "df.drop(['Loan_ID'],axis=1,inplace=True)\n",
        "df.head()"
      ],
      "metadata": {
        "colab": {
          "base_uri": "https://localhost:8080/",
          "height": 287
        },
        "id": "-kJDxkVzig4u",
        "outputId": "0ecfdf14-d664-4d57-9add-f46c15c580cd"
      },
      "execution_count": null,
      "outputs": [
        {
          "output_type": "execute_result",
          "data": {
            "text/plain": [
              "  Gender Married Dependents     Education Self_Employed  ApplicantIncome  \\\n",
              "0   Male      No          0      Graduate            No             5849   \n",
              "1   Male     Yes          1      Graduate            No             4583   \n",
              "2   Male     Yes          0      Graduate           Yes             3000   \n",
              "3   Male     Yes          0  Not Graduate            No             2583   \n",
              "4   Male      No          0      Graduate            No             6000   \n",
              "\n",
              "   CoapplicantIncome  LoanAmount  Loan_Amount_Term  Credit_History  \\\n",
              "0                0.0         NaN             360.0             1.0   \n",
              "1             1508.0       128.0             360.0             1.0   \n",
              "2                0.0        66.0             360.0             1.0   \n",
              "3             2358.0       120.0             360.0             1.0   \n",
              "4                0.0       141.0             360.0             1.0   \n",
              "\n",
              "  Property_Area Loan_Status  \n",
              "0         Urban           Y  \n",
              "1         Rural           N  \n",
              "2         Urban           Y  \n",
              "3         Urban           Y  \n",
              "4         Urban           Y  "
            ],
            "text/html": [
              "\n",
              "  <div id=\"df-4e49b78f-5f5b-48fe-92ff-0fc875350f6a\">\n",
              "    <div class=\"colab-df-container\">\n",
              "      <div>\n",
              "<style scoped>\n",
              "    .dataframe tbody tr th:only-of-type {\n",
              "        vertical-align: middle;\n",
              "    }\n",
              "\n",
              "    .dataframe tbody tr th {\n",
              "        vertical-align: top;\n",
              "    }\n",
              "\n",
              "    .dataframe thead th {\n",
              "        text-align: right;\n",
              "    }\n",
              "</style>\n",
              "<table border=\"1\" class=\"dataframe\">\n",
              "  <thead>\n",
              "    <tr style=\"text-align: right;\">\n",
              "      <th></th>\n",
              "      <th>Gender</th>\n",
              "      <th>Married</th>\n",
              "      <th>Dependents</th>\n",
              "      <th>Education</th>\n",
              "      <th>Self_Employed</th>\n",
              "      <th>ApplicantIncome</th>\n",
              "      <th>CoapplicantIncome</th>\n",
              "      <th>LoanAmount</th>\n",
              "      <th>Loan_Amount_Term</th>\n",
              "      <th>Credit_History</th>\n",
              "      <th>Property_Area</th>\n",
              "      <th>Loan_Status</th>\n",
              "    </tr>\n",
              "  </thead>\n",
              "  <tbody>\n",
              "    <tr>\n",
              "      <th>0</th>\n",
              "      <td>Male</td>\n",
              "      <td>No</td>\n",
              "      <td>0</td>\n",
              "      <td>Graduate</td>\n",
              "      <td>No</td>\n",
              "      <td>5849</td>\n",
              "      <td>0.0</td>\n",
              "      <td>NaN</td>\n",
              "      <td>360.0</td>\n",
              "      <td>1.0</td>\n",
              "      <td>Urban</td>\n",
              "      <td>Y</td>\n",
              "    </tr>\n",
              "    <tr>\n",
              "      <th>1</th>\n",
              "      <td>Male</td>\n",
              "      <td>Yes</td>\n",
              "      <td>1</td>\n",
              "      <td>Graduate</td>\n",
              "      <td>No</td>\n",
              "      <td>4583</td>\n",
              "      <td>1508.0</td>\n",
              "      <td>128.0</td>\n",
              "      <td>360.0</td>\n",
              "      <td>1.0</td>\n",
              "      <td>Rural</td>\n",
              "      <td>N</td>\n",
              "    </tr>\n",
              "    <tr>\n",
              "      <th>2</th>\n",
              "      <td>Male</td>\n",
              "      <td>Yes</td>\n",
              "      <td>0</td>\n",
              "      <td>Graduate</td>\n",
              "      <td>Yes</td>\n",
              "      <td>3000</td>\n",
              "      <td>0.0</td>\n",
              "      <td>66.0</td>\n",
              "      <td>360.0</td>\n",
              "      <td>1.0</td>\n",
              "      <td>Urban</td>\n",
              "      <td>Y</td>\n",
              "    </tr>\n",
              "    <tr>\n",
              "      <th>3</th>\n",
              "      <td>Male</td>\n",
              "      <td>Yes</td>\n",
              "      <td>0</td>\n",
              "      <td>Not Graduate</td>\n",
              "      <td>No</td>\n",
              "      <td>2583</td>\n",
              "      <td>2358.0</td>\n",
              "      <td>120.0</td>\n",
              "      <td>360.0</td>\n",
              "      <td>1.0</td>\n",
              "      <td>Urban</td>\n",
              "      <td>Y</td>\n",
              "    </tr>\n",
              "    <tr>\n",
              "      <th>4</th>\n",
              "      <td>Male</td>\n",
              "      <td>No</td>\n",
              "      <td>0</td>\n",
              "      <td>Graduate</td>\n",
              "      <td>No</td>\n",
              "      <td>6000</td>\n",
              "      <td>0.0</td>\n",
              "      <td>141.0</td>\n",
              "      <td>360.0</td>\n",
              "      <td>1.0</td>\n",
              "      <td>Urban</td>\n",
              "      <td>Y</td>\n",
              "    </tr>\n",
              "  </tbody>\n",
              "</table>\n",
              "</div>\n",
              "      <button class=\"colab-df-convert\" onclick=\"convertToInteractive('df-4e49b78f-5f5b-48fe-92ff-0fc875350f6a')\"\n",
              "              title=\"Convert this dataframe to an interactive table.\"\n",
              "              style=\"display:none;\">\n",
              "        \n",
              "  <svg xmlns=\"http://www.w3.org/2000/svg\" height=\"24px\"viewBox=\"0 0 24 24\"\n",
              "       width=\"24px\">\n",
              "    <path d=\"M0 0h24v24H0V0z\" fill=\"none\"/>\n",
              "    <path d=\"M18.56 5.44l.94 2.06.94-2.06 2.06-.94-2.06-.94-.94-2.06-.94 2.06-2.06.94zm-11 1L8.5 8.5l.94-2.06 2.06-.94-2.06-.94L8.5 2.5l-.94 2.06-2.06.94zm10 10l.94 2.06.94-2.06 2.06-.94-2.06-.94-.94-2.06-.94 2.06-2.06.94z\"/><path d=\"M17.41 7.96l-1.37-1.37c-.4-.4-.92-.59-1.43-.59-.52 0-1.04.2-1.43.59L10.3 9.45l-7.72 7.72c-.78.78-.78 2.05 0 2.83L4 21.41c.39.39.9.59 1.41.59.51 0 1.02-.2 1.41-.59l7.78-7.78 2.81-2.81c.8-.78.8-2.07 0-2.86zM5.41 20L4 18.59l7.72-7.72 1.47 1.35L5.41 20z\"/>\n",
              "  </svg>\n",
              "      </button>\n",
              "      \n",
              "  <style>\n",
              "    .colab-df-container {\n",
              "      display:flex;\n",
              "      flex-wrap:wrap;\n",
              "      gap: 12px;\n",
              "    }\n",
              "\n",
              "    .colab-df-convert {\n",
              "      background-color: #E8F0FE;\n",
              "      border: none;\n",
              "      border-radius: 50%;\n",
              "      cursor: pointer;\n",
              "      display: none;\n",
              "      fill: #1967D2;\n",
              "      height: 32px;\n",
              "      padding: 0 0 0 0;\n",
              "      width: 32px;\n",
              "    }\n",
              "\n",
              "    .colab-df-convert:hover {\n",
              "      background-color: #E2EBFA;\n",
              "      box-shadow: 0px 1px 2px rgba(60, 64, 67, 0.3), 0px 1px 3px 1px rgba(60, 64, 67, 0.15);\n",
              "      fill: #174EA6;\n",
              "    }\n",
              "\n",
              "    [theme=dark] .colab-df-convert {\n",
              "      background-color: #3B4455;\n",
              "      fill: #D2E3FC;\n",
              "    }\n",
              "\n",
              "    [theme=dark] .colab-df-convert:hover {\n",
              "      background-color: #434B5C;\n",
              "      box-shadow: 0px 1px 3px 1px rgba(0, 0, 0, 0.15);\n",
              "      filter: drop-shadow(0px 1px 2px rgba(0, 0, 0, 0.3));\n",
              "      fill: #FFFFFF;\n",
              "    }\n",
              "  </style>\n",
              "\n",
              "      <script>\n",
              "        const buttonEl =\n",
              "          document.querySelector('#df-4e49b78f-5f5b-48fe-92ff-0fc875350f6a button.colab-df-convert');\n",
              "        buttonEl.style.display =\n",
              "          google.colab.kernel.accessAllowed ? 'block' : 'none';\n",
              "\n",
              "        async function convertToInteractive(key) {\n",
              "          const element = document.querySelector('#df-4e49b78f-5f5b-48fe-92ff-0fc875350f6a');\n",
              "          const dataTable =\n",
              "            await google.colab.kernel.invokeFunction('convertToInteractive',\n",
              "                                                     [key], {});\n",
              "          if (!dataTable) return;\n",
              "\n",
              "          const docLinkHtml = 'Like what you see? Visit the ' +\n",
              "            '<a target=\"_blank\" href=https://colab.research.google.com/notebooks/data_table.ipynb>data table notebook</a>'\n",
              "            + ' to learn more about interactive tables.';\n",
              "          element.innerHTML = '';\n",
              "          dataTable['output_type'] = 'display_data';\n",
              "          await google.colab.output.renderOutput(dataTable, element);\n",
              "          const docLink = document.createElement('div');\n",
              "          docLink.innerHTML = docLinkHtml;\n",
              "          element.appendChild(docLink);\n",
              "        }\n",
              "      </script>\n",
              "    </div>\n",
              "  </div>\n",
              "  "
            ]
          },
          "metadata": {},
          "execution_count": 3
        }
      ]
    },
    {
      "cell_type": "code",
      "source": [
        "# Handling Categorical values\n",
        "### Changing the data type of each float cloumn to int\n",
        "\n",
        "df['Gender']=df['Gender'].map({'Female':1,'Male':0})\n",
        "df['Property_Area']=df['Property_Area'].map({'Urban':2,'Semiurban':1, 'Rural':0})\n",
        "df['Married']=df['Married'].map({'Yes':1,'No':0})\n",
        "df['Education']=df['Education'].map({'Graduate':1,'Not Graduate':0})\n",
        "df['Self_Employed']=df['Self_Employed'].map({'Yes':1,'No':0})\n",
        "df['Loan_Status']=df['Loan_Status'].map({'Y':1,'N':0})\n",
        "df.head()"
      ],
      "metadata": {
        "colab": {
          "base_uri": "https://localhost:8080/",
          "height": 270
        },
        "id": "JEyRSPYtilEe",
        "outputId": "abf980a9-5d18-4b22-88c5-9250c1e3a760"
      },
      "execution_count": null,
      "outputs": [
        {
          "output_type": "execute_result",
          "data": {
            "text/plain": [
              "   Gender  Married Dependents  Education  Self_Employed  ApplicantIncome  \\\n",
              "0     0.0      0.0          0          1            0.0             5849   \n",
              "1     0.0      1.0          1          1            0.0             4583   \n",
              "2     0.0      1.0          0          1            1.0             3000   \n",
              "3     0.0      1.0          0          0            0.0             2583   \n",
              "4     0.0      0.0          0          1            0.0             6000   \n",
              "\n",
              "   CoapplicantIncome  LoanAmount  Loan_Amount_Term  Credit_History  \\\n",
              "0                0.0         NaN             360.0             1.0   \n",
              "1             1508.0       128.0             360.0             1.0   \n",
              "2                0.0        66.0             360.0             1.0   \n",
              "3             2358.0       120.0             360.0             1.0   \n",
              "4                0.0       141.0             360.0             1.0   \n",
              "\n",
              "   Property_Area  Loan_Status  \n",
              "0              2            1  \n",
              "1              0            0  \n",
              "2              2            1  \n",
              "3              2            1  \n",
              "4              2            1  "
            ],
            "text/html": [
              "\n",
              "  <div id=\"df-a1293d88-a23e-4ce3-8da4-e631b6229876\">\n",
              "    <div class=\"colab-df-container\">\n",
              "      <div>\n",
              "<style scoped>\n",
              "    .dataframe tbody tr th:only-of-type {\n",
              "        vertical-align: middle;\n",
              "    }\n",
              "\n",
              "    .dataframe tbody tr th {\n",
              "        vertical-align: top;\n",
              "    }\n",
              "\n",
              "    .dataframe thead th {\n",
              "        text-align: right;\n",
              "    }\n",
              "</style>\n",
              "<table border=\"1\" class=\"dataframe\">\n",
              "  <thead>\n",
              "    <tr style=\"text-align: right;\">\n",
              "      <th></th>\n",
              "      <th>Gender</th>\n",
              "      <th>Married</th>\n",
              "      <th>Dependents</th>\n",
              "      <th>Education</th>\n",
              "      <th>Self_Employed</th>\n",
              "      <th>ApplicantIncome</th>\n",
              "      <th>CoapplicantIncome</th>\n",
              "      <th>LoanAmount</th>\n",
              "      <th>Loan_Amount_Term</th>\n",
              "      <th>Credit_History</th>\n",
              "      <th>Property_Area</th>\n",
              "      <th>Loan_Status</th>\n",
              "    </tr>\n",
              "  </thead>\n",
              "  <tbody>\n",
              "    <tr>\n",
              "      <th>0</th>\n",
              "      <td>0.0</td>\n",
              "      <td>0.0</td>\n",
              "      <td>0</td>\n",
              "      <td>1</td>\n",
              "      <td>0.0</td>\n",
              "      <td>5849</td>\n",
              "      <td>0.0</td>\n",
              "      <td>NaN</td>\n",
              "      <td>360.0</td>\n",
              "      <td>1.0</td>\n",
              "      <td>2</td>\n",
              "      <td>1</td>\n",
              "    </tr>\n",
              "    <tr>\n",
              "      <th>1</th>\n",
              "      <td>0.0</td>\n",
              "      <td>1.0</td>\n",
              "      <td>1</td>\n",
              "      <td>1</td>\n",
              "      <td>0.0</td>\n",
              "      <td>4583</td>\n",
              "      <td>1508.0</td>\n",
              "      <td>128.0</td>\n",
              "      <td>360.0</td>\n",
              "      <td>1.0</td>\n",
              "      <td>0</td>\n",
              "      <td>0</td>\n",
              "    </tr>\n",
              "    <tr>\n",
              "      <th>2</th>\n",
              "      <td>0.0</td>\n",
              "      <td>1.0</td>\n",
              "      <td>0</td>\n",
              "      <td>1</td>\n",
              "      <td>1.0</td>\n",
              "      <td>3000</td>\n",
              "      <td>0.0</td>\n",
              "      <td>66.0</td>\n",
              "      <td>360.0</td>\n",
              "      <td>1.0</td>\n",
              "      <td>2</td>\n",
              "      <td>1</td>\n",
              "    </tr>\n",
              "    <tr>\n",
              "      <th>3</th>\n",
              "      <td>0.0</td>\n",
              "      <td>1.0</td>\n",
              "      <td>0</td>\n",
              "      <td>0</td>\n",
              "      <td>0.0</td>\n",
              "      <td>2583</td>\n",
              "      <td>2358.0</td>\n",
              "      <td>120.0</td>\n",
              "      <td>360.0</td>\n",
              "      <td>1.0</td>\n",
              "      <td>2</td>\n",
              "      <td>1</td>\n",
              "    </tr>\n",
              "    <tr>\n",
              "      <th>4</th>\n",
              "      <td>0.0</td>\n",
              "      <td>0.0</td>\n",
              "      <td>0</td>\n",
              "      <td>1</td>\n",
              "      <td>0.0</td>\n",
              "      <td>6000</td>\n",
              "      <td>0.0</td>\n",
              "      <td>141.0</td>\n",
              "      <td>360.0</td>\n",
              "      <td>1.0</td>\n",
              "      <td>2</td>\n",
              "      <td>1</td>\n",
              "    </tr>\n",
              "  </tbody>\n",
              "</table>\n",
              "</div>\n",
              "      <button class=\"colab-df-convert\" onclick=\"convertToInteractive('df-a1293d88-a23e-4ce3-8da4-e631b6229876')\"\n",
              "              title=\"Convert this dataframe to an interactive table.\"\n",
              "              style=\"display:none;\">\n",
              "        \n",
              "  <svg xmlns=\"http://www.w3.org/2000/svg\" height=\"24px\"viewBox=\"0 0 24 24\"\n",
              "       width=\"24px\">\n",
              "    <path d=\"M0 0h24v24H0V0z\" fill=\"none\"/>\n",
              "    <path d=\"M18.56 5.44l.94 2.06.94-2.06 2.06-.94-2.06-.94-.94-2.06-.94 2.06-2.06.94zm-11 1L8.5 8.5l.94-2.06 2.06-.94-2.06-.94L8.5 2.5l-.94 2.06-2.06.94zm10 10l.94 2.06.94-2.06 2.06-.94-2.06-.94-.94-2.06-.94 2.06-2.06.94z\"/><path d=\"M17.41 7.96l-1.37-1.37c-.4-.4-.92-.59-1.43-.59-.52 0-1.04.2-1.43.59L10.3 9.45l-7.72 7.72c-.78.78-.78 2.05 0 2.83L4 21.41c.39.39.9.59 1.41.59.51 0 1.02-.2 1.41-.59l7.78-7.78 2.81-2.81c.8-.78.8-2.07 0-2.86zM5.41 20L4 18.59l7.72-7.72 1.47 1.35L5.41 20z\"/>\n",
              "  </svg>\n",
              "      </button>\n",
              "      \n",
              "  <style>\n",
              "    .colab-df-container {\n",
              "      display:flex;\n",
              "      flex-wrap:wrap;\n",
              "      gap: 12px;\n",
              "    }\n",
              "\n",
              "    .colab-df-convert {\n",
              "      background-color: #E8F0FE;\n",
              "      border: none;\n",
              "      border-radius: 50%;\n",
              "      cursor: pointer;\n",
              "      display: none;\n",
              "      fill: #1967D2;\n",
              "      height: 32px;\n",
              "      padding: 0 0 0 0;\n",
              "      width: 32px;\n",
              "    }\n",
              "\n",
              "    .colab-df-convert:hover {\n",
              "      background-color: #E2EBFA;\n",
              "      box-shadow: 0px 1px 2px rgba(60, 64, 67, 0.3), 0px 1px 3px 1px rgba(60, 64, 67, 0.15);\n",
              "      fill: #174EA6;\n",
              "    }\n",
              "\n",
              "    [theme=dark] .colab-df-convert {\n",
              "      background-color: #3B4455;\n",
              "      fill: #D2E3FC;\n",
              "    }\n",
              "\n",
              "    [theme=dark] .colab-df-convert:hover {\n",
              "      background-color: #434B5C;\n",
              "      box-shadow: 0px 1px 3px 1px rgba(0, 0, 0, 0.15);\n",
              "      filter: drop-shadow(0px 1px 2px rgba(0, 0, 0, 0.3));\n",
              "      fill: #FFFFFF;\n",
              "    }\n",
              "  </style>\n",
              "\n",
              "      <script>\n",
              "        const buttonEl =\n",
              "          document.querySelector('#df-a1293d88-a23e-4ce3-8da4-e631b6229876 button.colab-df-convert');\n",
              "        buttonEl.style.display =\n",
              "          google.colab.kernel.accessAllowed ? 'block' : 'none';\n",
              "\n",
              "        async function convertToInteractive(key) {\n",
              "          const element = document.querySelector('#df-a1293d88-a23e-4ce3-8da4-e631b6229876');\n",
              "          const dataTable =\n",
              "            await google.colab.kernel.invokeFunction('convertToInteractive',\n",
              "                                                     [key], {});\n",
              "          if (!dataTable) return;\n",
              "\n",
              "          const docLinkHtml = 'Like what you see? Visit the ' +\n",
              "            '<a target=\"_blank\" href=https://colab.research.google.com/notebooks/data_table.ipynb>data table notebook</a>'\n",
              "            + ' to learn more about interactive tables.';\n",
              "          element.innerHTML = '';\n",
              "          dataTable['output_type'] = 'display_data';\n",
              "          await google.colab.output.renderOutput(dataTable, element);\n",
              "          const docLink = document.createElement('div');\n",
              "          docLink.innerHTML = docLinkHtml;\n",
              "          element.appendChild(docLink);\n",
              "        }\n",
              "      </script>\n",
              "    </div>\n",
              "  </div>\n",
              "  "
            ]
          },
          "metadata": {},
          "execution_count": 4
        }
      ]
    },
    {
      "cell_type": "code",
      "source": [
        "df.isnull().sum()"
      ],
      "metadata": {
        "colab": {
          "base_uri": "https://localhost:8080/"
        },
        "id": "5xhzFqC9ipnm",
        "outputId": "5ab2ac31-9bf7-4b99-82f4-e5047ade55c4"
      },
      "execution_count": null,
      "outputs": [
        {
          "output_type": "execute_result",
          "data": {
            "text/plain": [
              "Gender               13\n",
              "Married               3\n",
              "Dependents           15\n",
              "Education             0\n",
              "Self_Employed        32\n",
              "ApplicantIncome       0\n",
              "CoapplicantIncome     0\n",
              "LoanAmount           22\n",
              "Loan_Amount_Term     14\n",
              "Credit_History       50\n",
              "Property_Area         0\n",
              "Loan_Status           0\n",
              "dtype: int64"
            ]
          },
          "metadata": {},
          "execution_count": 5
        }
      ]
    },
    {
      "cell_type": "code",
      "source": [
        "df['Gender'] = df['Gender'].fillna(df['Gender'].mode()[0])\n",
        "df['Married'] = df['Married'].fillna(df['Married'].mode()[0])\n",
        "df['Dependents']=df['Dependents'].str.replace('+','')\n",
        "df['Dependents']=df['Dependents'].fillna(df['Dependents'].mode()[0])\n",
        "df['Self_Employed'] = df['Self_Employed'].fillna(df['Self_Employed'].mode()[0])\n",
        "df['LoanAmount'] = df['LoanAmount'].fillna(df['LoanAmount'].mode()[0])\n",
        "df['Loan_Amount_Term'] = df['Loan_Amount_Term'].fillna(df['Loan_Amount_Term'].mode()[0])\n",
        "df['Credit_History'] = df['Credit_History'].fillna(df['Credit_History'].mode()[0])"
      ],
      "metadata": {
        "id": "kIbarLTSiud4"
      },
      "execution_count": null,
      "outputs": []
    },
    {
      "cell_type": "code",
      "source": [
        "df.isnull().sum()"
      ],
      "metadata": {
        "colab": {
          "base_uri": "https://localhost:8080/"
        },
        "id": "TrK9dGqviy9F",
        "outputId": "7dff7eca-f3b2-43ae-a405-f19f4f98f491"
      },
      "execution_count": null,
      "outputs": [
        {
          "output_type": "execute_result",
          "data": {
            "text/plain": [
              "Gender               0\n",
              "Married              0\n",
              "Dependents           0\n",
              "Education            0\n",
              "Self_Employed        0\n",
              "ApplicantIncome      0\n",
              "CoapplicantIncome    0\n",
              "LoanAmount           0\n",
              "Loan_Amount_Term     0\n",
              "Credit_History       0\n",
              "Property_Area        0\n",
              "Loan_Status          0\n",
              "dtype: int64"
            ]
          },
          "metadata": {},
          "execution_count": 7
        }
      ]
    },
    {
      "cell_type": "code",
      "source": [
        "df.info()"
      ],
      "metadata": {
        "colab": {
          "base_uri": "https://localhost:8080/"
        },
        "id": "XxLp7TuFi2D3",
        "outputId": "b0a12870-5193-401a-902e-da74223ccb29"
      },
      "execution_count": null,
      "outputs": [
        {
          "output_type": "stream",
          "name": "stdout",
          "text": [
            "<class 'pandas.core.frame.DataFrame'>\n",
            "RangeIndex: 614 entries, 0 to 613\n",
            "Data columns (total 12 columns):\n",
            " #   Column             Non-Null Count  Dtype  \n",
            "---  ------             --------------  -----  \n",
            " 0   Gender             614 non-null    float64\n",
            " 1   Married            614 non-null    float64\n",
            " 2   Dependents         614 non-null    object \n",
            " 3   Education          614 non-null    int64  \n",
            " 4   Self_Employed      614 non-null    float64\n",
            " 5   ApplicantIncome    614 non-null    int64  \n",
            " 6   CoapplicantIncome  614 non-null    float64\n",
            " 7   LoanAmount         614 non-null    float64\n",
            " 8   Loan_Amount_Term   614 non-null    float64\n",
            " 9   Credit_History     614 non-null    float64\n",
            " 10  Property_Area      614 non-null    int64  \n",
            " 11  Loan_Status        614 non-null    int64  \n",
            "dtypes: float64(7), int64(4), object(1)\n",
            "memory usage: 57.7+ KB\n"
          ]
        }
      ]
    },
    {
      "cell_type": "code",
      "source": [
        "\n",
        "# Handling Categorical values\n",
        "### Changing the data type of each float cloumn to int\n",
        "df['Gender']=df['Gender'].astype('int64')\n",
        "df['Married']=df['Married'].astype('int64')\n",
        "df['Dependents']=df['Dependents'].astype('int64')\n",
        "df['Self_Employed']=df['Self_Employed'].astype('int64')\n",
        "df['CoapplicantIncome']=df['CoapplicantIncome'].astype('int64')\n",
        "df['LoanAmount']=df['LoanAmount'].astype('int64')\n",
        "df['Loan_Amount_Term']=df['Loan_Amount_Term'].astype('int64')\n",
        "df['Credit_History']=df['Credit_History'].astype('int64')"
      ],
      "metadata": {
        "id": "5xUGQCWgi6OX"
      },
      "execution_count": null,
      "outputs": []
    },
    {
      "cell_type": "code",
      "source": [
        "\n",
        "plt.figure(figsize=(12,5))\n",
        "plt.subplot(121)\n",
        "sns.distplot(df['ApplicantIncome'], color='r')\n",
        "plt.subplot(122)\n",
        "sns.distplot(df['Credit_History'])\n",
        "plt.show()"
      ],
      "metadata": {
        "colab": {
          "base_uri": "https://localhost:8080/",
          "height": 307
        },
        "id": "_QLts5Iui-LP",
        "outputId": "8e6ae5b5-8843-4815-e6c4-8fff2674c721"
      },
      "execution_count": null,
      "outputs": [
        {
          "output_type": "display_data",
          "data": {
            "text/plain": [
              "<Figure size 1200x500 with 2 Axes>"
            ],
            "image/png": "[encoded data removed]"
          },
          "metadata": {}
        }
      ]
    },
    {
      "cell_type": "code",
      "source": [
        "\n",
        "#gender andeducation Visual \n",
        "plt.figure(figsize=(18,4))\n",
        "plt.subplot(1,4,1)\n",
        "sns.countplot(df ['Gender'],color='r')\n",
        "plt.xlabel('Gender')\n",
        "plt.subplot(1,4,2)\n",
        "sns.countplot(df['Education'])\n",
        "plt.xlabel('Education')\n",
        "plt.show()"
      ],
      "metadata": {
        "colab": {
          "base_uri": "https://localhost:8080/",
          "height": 353
        },
        "id": "zMkZ4wt6jCcI",
        "outputId": "be455654-eca6-4021-b056-a98140293a6b"
      },
      "execution_count": null,
      "outputs": [
        {
          "output_type": "display_data",
          "data": {
            "text/plain": [
              "<Figure size 1800x400 with 2 Axes>"
            ],
            "image/png": "[encoded data removed]"
          },
          "metadata": {}
        }
      ]
    },
    {
      "cell_type": "code",
      "source": [
        "plt.figure(figsize=(10,4))\n",
        "plt.subplot(131)\n",
        "sns.countplot(df['Married'])\n"
      ],
      "metadata": {
        "colab": {
          "base_uri": "https://localhost:8080/",
          "height": 385
        },
        "id": "SBp048VqjGmv",
        "outputId": "a8d2778e-3780-4126-a795-2918be868ca9"
      },
      "execution_count": null,
      "outputs": [
        {
          "output_type": "execute_result",
          "data": {
            "text/plain": [
              "<Axes: ylabel='count'>"
            ]
          },
          "metadata": {},
          "execution_count": 12
        },
        {
          "output_type": "display_data",
          "data": {
            "text/plain": [
              "<Figure size 1000x400 with 1 Axes>"
            ],
            "image/png": "[encoded data removed]"
          },
          "metadata": {}
        }
      ]
    },
    {
      "cell_type": "code",
      "source": [
        "plt.figure(figsize=(10,5))\n",
        "\n",
        "sns.heatmap(df.corr(),cmap='BrBG',fmt='.2f',\n",
        "\t\t\tlinewidths=2,annot=True)"
      ],
      "metadata": {
        "colab": {
          "base_uri": "https://localhost:8080/",
          "height": 455
        },
        "id": "cx1dZEd2jMZt",
        "outputId": "dcc841ab-a252-4a59-835d-4b28e1939c23"
      },
      "execution_count": null,
      "outputs": [
        {
          "output_type": "execute_result",
          "data": {
            "text/plain": [
              "<Axes: >"
            ]
          },
          "metadata": {},
          "execution_count": 13
        },
        {
          "output_type": "display_data",
          "data": {
            "text/plain": [
              "<Figure size 1000x500 with 2 Axes>"
            ],
            "image/png": "[encoded data removed]"
          },
          "metadata": {}
        }
      ]
    },
    {
      "cell_type": "code",
      "source": [
        "plt.figure(figsize=(20,5))\n",
        "plt.subplot(1,3,1)\n",
        "sns.countplot(x = 'Married', hue = \"Gender\", data = df)\n",
        "plt.subplot(1,3,2)\n",
        "sns.countplot(x = 'Self_Employed', hue = \"Education\", data = df)\n",
        "plt.subplot(1,3,3)\n",
        "sns.countplot(x = 'Property_Area', hue = \"Loan_Amount_Term\", data = df)"
      ],
      "metadata": {
        "colab": {
          "base_uri": "https://localhost:8080/",
          "height": 219
        },
        "id": "NM9AIwZ0jRRG",
        "outputId": "fa847616-c0cf-4aeb-e2db-3ebe18fb9add"
      },
      "execution_count": null,
      "outputs": [
        {
          "output_type": "execute_result",
          "data": {
            "text/plain": [
              "<Axes: xlabel='Property_Area', ylabel='count'>"
            ]
          },
          "metadata": {},
          "execution_count": 14
        },
        {
          "output_type": "display_data",
          "data": {
            "text/plain": [
              "<Figure size 2000x500 with 3 Axes>"
            ],
            "image/png": "[encoded data removed]"
          },
          "metadata": {}
        }
      ]
    },
    {
      "cell_type": "code",
      "source": [
        "pd.crosstab(df['Gender'],[df['Self_Employed']])\n"
      ],
      "metadata": {
        "colab": {
          "base_uri": "https://localhost:8080/",
          "height": 143
        },
        "id": "wuiz_lAYjVcX",
        "outputId": "f07bf068-ec6c-44a2-860a-f75f63cbbf8d"
      },
      "execution_count": null,
      "outputs": [
        {
          "output_type": "execute_result",
          "data": {
            "text/plain": [
              "Self_Employed    0   1\n",
              "Gender                \n",
              "0              435  67\n",
              "1               97  15"
            ],
            "text/html": [
              "\n",
              "  <div id=\"df-c6fd9b1a-3522-414a-8b28-26cb6b654843\">\n",
              "    <div class=\"colab-df-container\">\n",
              "      <div>\n",
              "<style scoped>\n",
              "    .dataframe tbody tr th:only-of-type {\n",
              "        vertical-align: middle;\n",
              "    }\n",
              "\n",
              "    .dataframe tbody tr th {\n",
              "        vertical-align: top;\n",
              "    }\n",
              "\n",
              "    .dataframe thead th {\n",
              "        text-align: right;\n",
              "    }\n",
              "</style>\n",
              "<table border=\"1\" class=\"dataframe\">\n",
              "  <thead>\n",
              "    <tr style=\"text-align: right;\">\n",
              "      <th>Self_Employed</th>\n",
              "      <th>0</th>\n",
              "      <th>1</th>\n",
              "    </tr>\n",
              "    <tr>\n",
              "      <th>Gender</th>\n",
              "      <th></th>\n",
              "      <th></th>\n",
              "    </tr>\n",
              "  </thead>\n",
              "  <tbody>\n",
              "    <tr>\n",
              "      <th>0</th>\n",
              "      <td>435</td>\n",
              "      <td>67</td>\n",
              "    </tr>\n",
              "    <tr>\n",
              "      <th>1</th>\n",
              "      <td>97</td>\n",
              "      <td>15</td>\n",
              "    </tr>\n",
              "  </tbody>\n",
              "</table>\n",
              "</div>\n",
              "      <button class=\"colab-df-convert\" onclick=\"convertToInteractive('df-c6fd9b1a-3522-414a-8b28-26cb6b654843')\"\n",
              "              title=\"Convert this dataframe to an interactive table.\"\n",
              "              style=\"display:none;\">\n",
              "        \n",
              "  <svg xmlns=\"http://www.w3.org/2000/svg\" height=\"24px\"viewBox=\"0 0 24 24\"\n",
              "       width=\"24px\">\n",
              "    <path d=\"M0 0h24v24H0V0z\" fill=\"none\"/>\n",
              "    <path d=\"M18.56 5.44l.94 2.06.94-2.06 2.06-.94-2.06-.94-.94-2.06-.94 2.06-2.06.94zm-11 1L8.5 8.5l.94-2.06 2.06-.94-2.06-.94L8.5 2.5l-.94 2.06-2.06.94zm10 10l.94 2.06.94-2.06 2.06-.94-2.06-.94-.94-2.06-.94 2.06-2.06.94z\"/><path d=\"M17.41 7.96l-1.37-1.37c-.4-.4-.92-.59-1.43-.59-.52 0-1.04.2-1.43.59L10.3 9.45l-7.72 7.72c-.78.78-.78 2.05 0 2.83L4 21.41c.39.39.9.59 1.41.59.51 0 1.02-.2 1.41-.59l7.78-7.78 2.81-2.81c.8-.78.8-2.07 0-2.86zM5.41 20L4 18.59l7.72-7.72 1.47 1.35L5.41 20z\"/>\n",
              "  </svg>\n",
              "      </button>\n",
              "      \n",
              "  <style>\n",
              "    .colab-df-container {\n",
              "      display:flex;\n",
              "      flex-wrap:wrap;\n",
              "      gap: 12px;\n",
              "    }\n",
              "\n",
              "    .colab-df-convert {\n",
              "      background-color: #E8F0FE;\n",
              "      border: none;\n",
              "      border-radius: 50%;\n",
              "      cursor: pointer;\n",
              "      display: none;\n",
              "      fill: #1967D2;\n",
              "      height: 32px;\n",
              "      padding: 0 0 0 0;\n",
              "      width: 32px;\n",
              "    }\n",
              "\n",
              "    .colab-df-convert:hover {\n",
              "      background-color: #E2EBFA;\n",
              "      box-shadow: 0px 1px 2px rgba(60, 64, 67, 0.3), 0px 1px 3px 1px rgba(60, 64, 67, 0.15);\n",
              "      fill: #174EA6;\n",
              "    }\n",
              "\n",
              "    [theme=dark] .colab-df-convert {\n",
              "      background-color: #3B4455;\n",
              "      fill: #D2E3FC;\n",
              "    }\n",
              "\n",
              "    [theme=dark] .colab-df-convert:hover {\n",
              "      background-color: #434B5C;\n",
              "      box-shadow: 0px 1px 3px 1px rgba(0, 0, 0, 0.15);\n",
              "      filter: drop-shadow(0px 1px 2px rgba(0, 0, 0, 0.3));\n",
              "      fill: #FFFFFF;\n",
              "    }\n",
              "  </style>\n",
              "\n",
              "      <script>\n",
              "        const buttonEl =\n",
              "          document.querySelector('#df-c6fd9b1a-3522-414a-8b28-26cb6b654843 button.colab-df-convert');\n",
              "        buttonEl.style.display =\n",
              "          google.colab.kernel.accessAllowed ? 'block' : 'none';\n",
              "\n",
              "        async function convertToInteractive(key) {\n",
              "          const element = document.querySelector('#df-c6fd9b1a-3522-414a-8b28-26cb6b654843');\n",
              "          const dataTable =\n",
              "            await google.colab.kernel.invokeFunction('convertToInteractive',\n",
              "                                                     [key], {});\n",
              "          if (!dataTable) return;\n",
              "\n",
              "          const docLinkHtml = 'Like what you see? Visit the ' +\n",
              "            '<a target=\"_blank\" href=https://colab.research.google.com/notebooks/data_table.ipynb>data table notebook</a>'\n",
              "            + ' to learn more about interactive tables.';\n",
              "          element.innerHTML = '';\n",
              "          dataTable['output_type'] = 'display_data';\n",
              "          await google.colab.output.renderOutput(dataTable, element);\n",
              "          const docLink = document.createElement('div');\n",
              "          docLink.innerHTML = docLinkHtml;\n",
              "          element.appendChild(docLink);\n",
              "        }\n",
              "      </script>\n",
              "    </div>\n",
              "  </div>\n",
              "  "
            ]
          },
          "metadata": {},
          "execution_count": 15
        }
      ]
    },
    {
      "cell_type": "code",
      "source": [
        "\n",
        "#visualized based gender and income what would be the application status\n",
        "sns.swarmplot(x = 'Gender', y = 'ApplicantIncome', hue = \"Loan_Status\", data = df)\n"
      ],
      "metadata": {
        "colab": {
          "base_uri": "https://localhost:8080/",
          "height": 466
        },
        "id": "s5nEmd0aje9K",
        "outputId": "5c1d400a-b733-4855-dbb9-f86d9537084f"
      },
      "execution_count": null,
      "outputs": [
        {
          "output_type": "execute_result",
          "data": {
            "text/plain": [
              "<Axes: xlabel='Gender', ylabel='ApplicantIncome'>"
            ]
          },
          "metadata": {},
          "execution_count": 16
        },
        {
          "output_type": "display_data",
          "data": {
            "text/plain": [
              "<Figure size 640x480 with 1 Axes>"
            ],
            "image/png": "[encoded data removed]"
          },
          "metadata": {}
        }
      ]
    },
    {
      "cell_type": "code",
      "source": [
        "\n",
        "\n",
        "# Handling Imbalance Data\n",
        "from imblearn.combine import SMOTETomek\n",
        "smote = SMOTETomek()\n",
        "y = df['Loan_Status']\n",
        "x = df.drop(columns=['Loan_Status'],axis=1)"
      ],
      "metadata": {
        "id": "tyxxzziJjoUH"
      },
      "execution_count": null,
      "outputs": []
    },
    {
      "cell_type": "code",
      "source": [
        "\n",
        "x.shape\n"
      ],
      "metadata": {
        "colab": {
          "base_uri": "https://localhost:8080/"
        },
        "id": "GYq_mArnjr1W",
        "outputId": "24781d4f-74e3-447b-8cdb-fffc05c00ca9"
      },
      "execution_count": null,
      "outputs": [
        {
          "output_type": "execute_result",
          "data": {
            "text/plain": [
              "(614, 11)"
            ]
          },
          "metadata": {},
          "execution_count": 18
        }
      ]
    },
    {
      "cell_type": "code",
      "source": [
        "\n",
        "y.shape"
      ],
      "metadata": {
        "colab": {
          "base_uri": "https://localhost:8080/"
        },
        "id": "fnGZmvW6jyYf",
        "outputId": "05cc97c3-9d6a-427d-ce69-14958a6dbd4d"
      },
      "execution_count": null,
      "outputs": [
        {
          "output_type": "execute_result",
          "data": {
            "text/plain": [
              "(614,)"
            ]
          },
          "metadata": {},
          "execution_count": 19
        }
      ]
    },
    {
      "cell_type": "code",
      "source": [
        "x_bal,y_bal = smote.fit_resample(x,y)\n",
        "print(y.value_counts())\n",
        "print(y_bal.value_counts())\n"
      ],
      "metadata": {
        "colab": {
          "base_uri": "https://localhost:8080/"
        },
        "id": "6GSAqxFVj2sG",
        "outputId": "86fe03cc-6b60-42ae-e5f0-a6505fc57c56"
      },
      "execution_count": null,
      "outputs": [
        {
          "output_type": "stream",
          "name": "stdout",
          "text": [
            "1    422\n",
            "0    192\n",
            "Name: Loan_Status, dtype: int64\n",
            "1    354\n",
            "0    354\n",
            "Name: Loan_Status, dtype: int64\n"
          ]
        }
      ]
    },
    {
      "cell_type": "code",
      "source": [
        "names = x_bal.columns"
      ],
      "metadata": {
        "id": "sDmRki3Xj6Z_"
      },
      "execution_count": null,
      "outputs": []
    },
    {
      "cell_type": "code",
      "source": [
        "x_bal.head()"
      ],
      "metadata": {
        "colab": {
          "base_uri": "https://localhost:8080/",
          "height": 270
        },
        "id": "on8QfKJgj9Nu",
        "outputId": "0a3a1044-cc75-4dbd-915e-c2a3eae7d065"
      },
      "execution_count": null,
      "outputs": [
        {
          "output_type": "execute_result",
          "data": {
            "text/plain": [
              "   Gender  Married  Dependents  Education  Self_Employed  ApplicantIncome  \\\n",
              "0       0        0           0          1              0             5849   \n",
              "1       0        1           1          1              0             4583   \n",
              "2       0        1           0          1              1             3000   \n",
              "3       0        1           0          0              0             2583   \n",
              "4       0        0           0          1              0             6000   \n",
              "\n",
              "   CoapplicantIncome  LoanAmount  Loan_Amount_Term  Credit_History  \\\n",
              "0                  0         120               360               1   \n",
              "1               1508         128               360               1   \n",
              "2                  0          66               360               1   \n",
              "3               2358         120               360               1   \n",
              "4                  0         141               360               1   \n",
              "\n",
              "   Property_Area  \n",
              "0              2  \n",
              "1              0  \n",
              "2              2  \n",
              "3              2  \n",
              "4              2  "
            ],
            "text/html": [
              "\n",
              "  <div id=\"df-2f3f50e5-7c1e-4805-b361-61f222e1836a\">\n",
              "    <div class=\"colab-df-container\">\n",
              "      <div>\n",
              "<style scoped>\n",
              "    .dataframe tbody tr th:only-of-type {\n",
              "        vertical-align: middle;\n",
              "    }\n",
              "\n",
              "    .dataframe tbody tr th {\n",
              "        vertical-align: top;\n",
              "    }\n",
              "\n",
              "    .dataframe thead th {\n",
              "        text-align: right;\n",
              "    }\n",
              "</style>\n",
              "<table border=\"1\" class=\"dataframe\">\n",
              "  <thead>\n",
              "    <tr style=\"text-align: right;\">\n",
              "      <th></th>\n",
              "      <th>Gender</th>\n",
              "      <th>Married</th>\n",
              "      <th>Dependents</th>\n",
              "      <th>Education</th>\n",
              "      <th>Self_Employed</th>\n",
              "      <th>ApplicantIncome</th>\n",
              "      <th>CoapplicantIncome</th>\n",
              "      <th>LoanAmount</th>\n",
              "      <th>Loan_Amount_Term</th>\n",
              "      <th>Credit_History</th>\n",
              "      <th>Property_Area</th>\n",
              "    </tr>\n",
              "  </thead>\n",
              "  <tbody>\n",
              "    <tr>\n",
              "      <th>0</th>\n",
              "      <td>0</td>\n",
              "      <td>0</td>\n",
              "      <td>0</td>\n",
              "      <td>1</td>\n",
              "      <td>0</td>\n",
              "      <td>5849</td>\n",
              "      <td>0</td>\n",
              "      <td>120</td>\n",
              "      <td>360</td>\n",
              "      <td>1</td>\n",
              "      <td>2</td>\n",
              "    </tr>\n",
              "    <tr>\n",
              "      <th>1</th>\n",
              "      <td>0</td>\n",
              "      <td>1</td>\n",
              "      <td>1</td>\n",
              "      <td>1</td>\n",
              "      <td>0</td>\n",
              "      <td>4583</td>\n",
              "      <td>1508</td>\n",
              "      <td>128</td>\n",
              "      <td>360</td>\n",
              "      <td>1</td>\n",
              "      <td>0</td>\n",
              "    </tr>\n",
              "    <tr>\n",
              "      <th>2</th>\n",
              "      <td>0</td>\n",
              "      <td>1</td>\n",
              "      <td>0</td>\n",
              "      <td>1</td>\n",
              "      <td>1</td>\n",
              "      <td>3000</td>\n",
              "      <td>0</td>\n",
              "      <td>66</td>\n",
              "      <td>360</td>\n",
              "      <td>1</td>\n",
              "      <td>2</td>\n",
              "    </tr>\n",
              "    <tr>\n",
              "      <th>3</th>\n",
              "      <td>0</td>\n",
              "      <td>1</td>\n",
              "      <td>0</td>\n",
              "      <td>0</td>\n",
              "      <td>0</td>\n",
              "      <td>2583</td>\n",
              "      <td>2358</td>\n",
              "      <td>120</td>\n",
              "      <td>360</td>\n",
              "      <td>1</td>\n",
              "      <td>2</td>\n",
              "    </tr>\n",
              "    <tr>\n",
              "      <th>4</th>\n",
              "      <td>0</td>\n",
              "      <td>0</td>\n",
              "      <td>0</td>\n",
              "      <td>1</td>\n",
              "      <td>0</td>\n",
              "      <td>6000</td>\n",
              "      <td>0</td>\n",
              "      <td>141</td>\n",
              "      <td>360</td>\n",
              "      <td>1</td>\n",
              "      <td>2</td>\n",
              "    </tr>\n",
              "  </tbody>\n",
              "</table>\n",
              "</div>\n",
              "      <button class=\"colab-df-convert\" onclick=\"convertToInteractive('df-2f3f50e5-7c1e-4805-b361-61f222e1836a')\"\n",
              "              title=\"Convert this dataframe to an interactive table.\"\n",
              "              style=\"display:none;\">\n",
              "        \n",
              "  <svg xmlns=\"http://www.w3.org/2000/svg\" height=\"24px\"viewBox=\"0 0 24 24\"\n",
              "       width=\"24px\">\n",
              "    <path d=\"M0 0h24v24H0V0z\" fill=\"none\"/>\n",
              "    <path d=\"M18.56 5.44l.94 2.06.94-2.06 2.06-.94-2.06-.94-.94-2.06-.94 2.06-2.06.94zm-11 1L8.5 8.5l.94-2.06 2.06-.94-2.06-.94L8.5 2.5l-.94 2.06-2.06.94zm10 10l.94 2.06.94-2.06 2.06-.94-2.06-.94-.94-2.06-.94 2.06-2.06.94z\"/><path d=\"M17.41 7.96l-1.37-1.37c-.4-.4-.92-.59-1.43-.59-.52 0-1.04.2-1.43.59L10.3 9.45l-7.72 7.72c-.78.78-.78 2.05 0 2.83L4 21.41c.39.39.9.59 1.41.59.51 0 1.02-.2 1.41-.59l7.78-7.78 2.81-2.81c.8-.78.8-2.07 0-2.86zM5.41 20L4 18.59l7.72-7.72 1.47 1.35L5.41 20z\"/>\n",
              "  </svg>\n",
              "      </button>\n",
              "      \n",
              "  <style>\n",
              "    .colab-df-container {\n",
              "      display:flex;\n",
              "      flex-wrap:wrap;\n",
              "      gap: 12px;\n",
              "    }\n",
              "\n",
              "    .colab-df-convert {\n",
              "      background-color: #E8F0FE;\n",
              "      border: none;\n",
              "      border-radius: 50%;\n",
              "      cursor: pointer;\n",
              "      display: none;\n",
              "      fill: #1967D2;\n",
              "      height: 32px;\n",
              "      padding: 0 0 0 0;\n",
              "      width: 32px;\n",
              "    }\n",
              "\n",
              "    .colab-df-convert:hover {\n",
              "      background-color: #E2EBFA;\n",
              "      box-shadow: 0px 1px 2px rgba(60, 64, 67, 0.3), 0px 1px 3px 1px rgba(60, 64, 67, 0.15);\n",
              "      fill: #174EA6;\n",
              "    }\n",
              "\n",
              "    [theme=dark] .colab-df-convert {\n",
              "      background-color: #3B4455;\n",
              "      fill: #D2E3FC;\n",
              "    }\n",
              "\n",
              "    [theme=dark] .colab-df-convert:hover {\n",
              "      background-color: #434B5C;\n",
              "      box-shadow: 0px 1px 3px 1px rgba(0, 0, 0, 0.15);\n",
              "      filter: drop-shadow(0px 1px 2px rgba(0, 0, 0, 0.3));\n",
              "      fill: #FFFFFF;\n",
              "    }\n",
              "  </style>\n",
              "\n",
              "      <script>\n",
              "        const buttonEl =\n",
              "          document.querySelector('#df-2f3f50e5-7c1e-4805-b361-61f222e1836a button.colab-df-convert');\n",
              "        buttonEl.style.display =\n",
              "          google.colab.kernel.accessAllowed ? 'block' : 'none';\n",
              "\n",
              "        async function convertToInteractive(key) {\n",
              "          const element = document.querySelector('#df-2f3f50e5-7c1e-4805-b361-61f222e1836a');\n",
              "          const dataTable =\n",
              "            await google.colab.kernel.invokeFunction('convertToInteractive',\n",
              "                                                     [key], {});\n",
              "          if (!dataTable) return;\n",
              "\n",
              "          const docLinkHtml = 'Like what you see? Visit the ' +\n",
              "            '<a target=\"_blank\" href=https://colab.research.google.com/notebooks/data_table.ipynb>data table notebook</a>'\n",
              "            + ' to learn more about interactive tables.';\n",
              "          element.innerHTML = '';\n",
              "          dataTable['output_type'] = 'display_data';\n",
              "          await google.colab.output.renderOutput(dataTable, element);\n",
              "          const docLink = document.createElement('div');\n",
              "          docLink.innerHTML = docLinkHtml;\n",
              "          element.appendChild(docLink);\n",
              "        }\n",
              "      </script>\n",
              "    </div>\n",
              "  </div>\n",
              "  "
            ]
          },
          "metadata": {},
          "execution_count": 22
        }
      ]
    },
    {
      "cell_type": "code",
      "source": [
        "#performing feature scaling operation using standard scaller an x part ofthe dataset because\n",
        "#there different type of value in the columns\n",
        "sc=StandardScaler()\n",
        "x_bal=sc.fit_transform(x_bal)\n",
        "x_bal = pd.DataFrame(x_bal,columns=names)\n",
        "x_bal.head()"
      ],
      "metadata": {
        "colab": {
          "base_uri": "https://localhost:8080/",
          "height": 270
        },
        "id": "DU9qiCrMkBt2",
        "outputId": "1ac90df2-6206-4e43-8ae6-73d8763d0111"
      },
      "execution_count": null,
      "outputs": [
        {
          "output_type": "execute_result",
          "data": {
            "text/plain": [
              "     Gender   Married  Dependents  Education  Self_Employed  ApplicantIncome  \\\n",
              "0 -0.421944 -1.123379   -0.704870   0.614355      -0.333856         0.121091   \n",
              "1 -0.421944  0.890171    0.361472   0.614355      -0.333856        -0.113501   \n",
              "2 -0.421944  0.890171   -0.704870   0.614355       2.995301        -0.406833   \n",
              "3 -0.421944  0.890171   -0.704870  -1.627724      -0.333856        -0.484104   \n",
              "4 -0.421944 -1.123379   -0.704870   0.614355      -0.333856         0.149072   \n",
              "\n",
              "   CoapplicantIncome  LoanAmount  Loan_Amount_Term  Credit_History  \\\n",
              "0          -0.449921   -0.280691          0.307166        0.605636   \n",
              "1          -0.048636   -0.170001          0.307166        0.605636   \n",
              "2          -0.449921   -1.027845          0.307166        0.605636   \n",
              "3           0.177552   -0.280691          0.307166        0.605636   \n",
              "4          -0.449921    0.009869          0.307166        0.605636   \n",
              "\n",
              "   Property_Area  \n",
              "0       1.376236  \n",
              "1      -1.194675  \n",
              "2       1.376236  \n",
              "3       1.376236  \n",
              "4       1.376236  "
            ],
            "text/html": [
              "\n",
              "  <div id=\"df-da8bbb7c-3d1c-454f-8a57-b0f30d121846\">\n",
              "    <div class=\"colab-df-container\">\n",
              "      <div>\n",
              "<style scoped>\n",
              "    .dataframe tbody tr th:only-of-type {\n",
              "        vertical-align: middle;\n",
              "    }\n",
              "\n",
              "    .dataframe tbody tr th {\n",
              "        vertical-align: top;\n",
              "    }\n",
              "\n",
              "    .dataframe thead th {\n",
              "        text-align: right;\n",
              "    }\n",
              "</style>\n",
              "<table border=\"1\" class=\"dataframe\">\n",
              "  <thead>\n",
              "    <tr style=\"text-align: right;\">\n",
              "      <th></th>\n",
              "      <th>Gender</th>\n",
              "      <th>Married</th>\n",
              "      <th>Dependents</th>\n",
              "      <th>Education</th>\n",
              "      <th>Self_Employed</th>\n",
              "      <th>ApplicantIncome</th>\n",
              "      <th>CoapplicantIncome</th>\n",
              "      <th>LoanAmount</th>\n",
              "      <th>Loan_Amount_Term</th>\n",
              "      <th>Credit_History</th>\n",
              "      <th>Property_Area</th>\n",
              "    </tr>\n",
              "  </thead>\n",
              "  <tbody>\n",
              "    <tr>\n",
              "      <th>0</th>\n",
              "      <td>-0.421944</td>\n",
              "      <td>-1.123379</td>\n",
              "      <td>-0.704870</td>\n",
              "      <td>0.614355</td>\n",
              "      <td>-0.333856</td>\n",
              "      <td>0.121091</td>\n",
              "      <td>-0.449921</td>\n",
              "      <td>-0.280691</td>\n",
              "      <td>0.307166</td>\n",
              "      <td>0.605636</td>\n",
              "      <td>1.376236</td>\n",
              "    </tr>\n",
              "    <tr>\n",
              "      <th>1</th>\n",
              "      <td>-0.421944</td>\n",
              "      <td>0.890171</td>\n",
              "      <td>0.361472</td>\n",
              "      <td>0.614355</td>\n",
              "      <td>-0.333856</td>\n",
              "      <td>-0.113501</td>\n",
              "      <td>-0.048636</td>\n",
              "      <td>-0.170001</td>\n",
              "      <td>0.307166</td>\n",
              "      <td>0.605636</td>\n",
              "      <td>-1.194675</td>\n",
              "    </tr>\n",
              "    <tr>\n",
              "      <th>2</th>\n",
              "      <td>-0.421944</td>\n",
              "      <td>0.890171</td>\n",
              "      <td>-0.704870</td>\n",
              "      <td>0.614355</td>\n",
              "      <td>2.995301</td>\n",
              "      <td>-0.406833</td>\n",
              "      <td>-0.449921</td>\n",
              "      <td>-1.027845</td>\n",
              "      <td>0.307166</td>\n",
              "      <td>0.605636</td>\n",
              "      <td>1.376236</td>\n",
              "    </tr>\n",
              "    <tr>\n",
              "      <th>3</th>\n",
              "      <td>-0.421944</td>\n",
              "      <td>0.890171</td>\n",
              "      <td>-0.704870</td>\n",
              "      <td>-1.627724</td>\n",
              "      <td>-0.333856</td>\n",
              "      <td>-0.484104</td>\n",
              "      <td>0.177552</td>\n",
              "      <td>-0.280691</td>\n",
              "      <td>0.307166</td>\n",
              "      <td>0.605636</td>\n",
              "      <td>1.376236</td>\n",
              "    </tr>\n",
              "    <tr>\n",
              "      <th>4</th>\n",
              "      <td>-0.421944</td>\n",
              "      <td>-1.123379</td>\n",
              "      <td>-0.704870</td>\n",
              "      <td>0.614355</td>\n",
              "      <td>-0.333856</td>\n",
              "      <td>0.149072</td>\n",
              "      <td>-0.449921</td>\n",
              "      <td>0.009869</td>\n",
              "      <td>0.307166</td>\n",
              "      <td>0.605636</td>\n",
              "      <td>1.376236</td>\n",
              "    </tr>\n",
              "  </tbody>\n",
              "</table>\n",
              "</div>\n",
              "      <button class=\"colab-df-convert\" onclick=\"convertToInteractive('df-da8bbb7c-3d1c-454f-8a57-b0f30d121846')\"\n",
              "              title=\"Convert this dataframe to an interactive table.\"\n",
              "              style=\"display:none;\">\n",
              "        \n",
              "  <svg xmlns=\"http://www.w3.org/2000/svg\" height=\"24px\"viewBox=\"0 0 24 24\"\n",
              "       width=\"24px\">\n",
              "    <path d=\"M0 0h24v24H0V0z\" fill=\"none\"/>\n",
              "    <path d=\"M18.56 5.44l.94 2.06.94-2.06 2.06-.94-2.06-.94-.94-2.06-.94 2.06-2.06.94zm-11 1L8.5 8.5l.94-2.06 2.06-.94-2.06-.94L8.5 2.5l-.94 2.06-2.06.94zm10 10l.94 2.06.94-2.06 2.06-.94-2.06-.94-.94-2.06-.94 2.06-2.06.94z\"/><path d=\"M17.41 7.96l-1.37-1.37c-.4-.4-.92-.59-1.43-.59-.52 0-1.04.2-1.43.59L10.3 9.45l-7.72 7.72c-.78.78-.78 2.05 0 2.83L4 21.41c.39.39.9.59 1.41.59.51 0 1.02-.2 1.41-.59l7.78-7.78 2.81-2.81c.8-.78.8-2.07 0-2.86zM5.41 20L4 18.59l7.72-7.72 1.47 1.35L5.41 20z\"/>\n",
              "  </svg>\n",
              "      </button>\n",
              "      \n",
              "  <style>\n",
              "    .colab-df-container {\n",
              "      display:flex;\n",
              "      flex-wrap:wrap;\n",
              "      gap: 12px;\n",
              "    }\n",
              "\n",
              "    .colab-df-convert {\n",
              "      background-color: #E8F0FE;\n",
              "      border: none;\n",
              "      border-radius: 50%;\n",
              "      cursor: pointer;\n",
              "      display: none;\n",
              "      fill: #1967D2;\n",
              "      height: 32px;\n",
              "      padding: 0 0 0 0;\n",
              "      width: 32px;\n",
              "    }\n",
              "\n",
              "    .colab-df-convert:hover {\n",
              "      background-color: #E2EBFA;\n",
              "      box-shadow: 0px 1px 2px rgba(60, 64, 67, 0.3), 0px 1px 3px 1px rgba(60, 64, 67, 0.15);\n",
              "      fill: #174EA6;\n",
              "    }\n",
              "\n",
              "    [theme=dark] .colab-df-convert {\n",
              "      background-color: #3B4455;\n",
              "      fill: #D2E3FC;\n",
              "    }\n",
              "\n",
              "    [theme=dark] .colab-df-convert:hover {\n",
              "      background-color: #434B5C;\n",
              "      box-shadow: 0px 1px 3px 1px rgba(0, 0, 0, 0.15);\n",
              "      filter: drop-shadow(0px 1px 2px rgba(0, 0, 0, 0.3));\n",
              "      fill: #FFFFFF;\n",
              "    }\n",
              "  </style>\n",
              "\n",
              "      <script>\n",
              "        const buttonEl =\n",
              "          document.querySelector('#df-da8bbb7c-3d1c-454f-8a57-b0f30d121846 button.colab-df-convert');\n",
              "        buttonEl.style.display =\n",
              "          google.colab.kernel.accessAllowed ? 'block' : 'none';\n",
              "\n",
              "        async function convertToInteractive(key) {\n",
              "          const element = document.querySelector('#df-da8bbb7c-3d1c-454f-8a57-b0f30d121846');\n",
              "          const dataTable =\n",
              "            await google.colab.kernel.invokeFunction('convertToInteractive',\n",
              "                                                     [key], {});\n",
              "          if (!dataTable) return;\n",
              "\n",
              "          const docLinkHtml = 'Like what you see? Visit the ' +\n",
              "            '<a target=\"_blank\" href=https://colab.research.google.com/notebooks/data_table.ipynb>data table notebook</a>'\n",
              "            + ' to learn more about interactive tables.';\n",
              "          element.innerHTML = '';\n",
              "          dataTable['output_type'] = 'display_data';\n",
              "          await google.colab.output.renderOutput(dataTable, element);\n",
              "          const docLink = document.createElement('div');\n",
              "          docLink.innerHTML = docLinkHtml;\n",
              "          element.appendChild(docLink);\n",
              "        }\n",
              "      </script>\n",
              "    </div>\n",
              "  </div>\n",
              "  "
            ]
          },
          "metadata": {},
          "execution_count": 23
        }
      ]
    },
    {
      "cell_type": "code",
      "source": [
        "#splitting the dataset in train and test on balnmced data set\n",
        "x_train,x_test,y_train,y_test = train_test_split(x_bal,y_bal, test_size=0.33, random_state=42)\n",
        "x_train.shape\n"
      ],
      "metadata": {
        "colab": {
          "base_uri": "https://localhost:8080/"
        },
        "id": "zePld7bWkGRm",
        "outputId": "fe0eed51-3daa-430e-8355-35ffe02e09ba"
      },
      "execution_count": null,
      "outputs": [
        {
          "output_type": "execute_result",
          "data": {
            "text/plain": [
              "(474, 11)"
            ]
          },
          "metadata": {},
          "execution_count": 24
        }
      ]
    },
    {
      "cell_type": "code",
      "source": [
        "x_train.shape"
      ],
      "metadata": {
        "colab": {
          "base_uri": "https://localhost:8080/"
        },
        "id": "gD0HKTCCkLX2",
        "outputId": "7bdf1440-6d18-4004-cd85-7c3e8a63bfe3"
      },
      "execution_count": null,
      "outputs": [
        {
          "output_type": "execute_result",
          "data": {
            "text/plain": [
              "(474, 11)"
            ]
          },
          "metadata": {},
          "execution_count": 25
        }
      ]
    },
    {
      "cell_type": "code",
      "source": [
        "\n",
        "y_train.shape, y_test.shape"
      ],
      "metadata": {
        "colab": {
          "base_uri": "https://localhost:8080/"
        },
        "id": "mXYGbhQskPOe",
        "outputId": "8ec3e44f-f1aa-49e9-f766-0d6c5931e218"
      },
      "execution_count": null,
      "outputs": [
        {
          "output_type": "execute_result",
          "data": {
            "text/plain": [
              "((474,), (234,))"
            ]
          },
          "metadata": {},
          "execution_count": 26
        }
      ]
    },
    {
      "cell_type": "code",
      "source": [
        "#RandomForest model\n",
        "from tensorflow.keras import Model\n",
        "def RandomForest(x_train,x_test,y_train,y_test):\n",
        "  model = RandomForestClassifier()\n",
        "  model.fit(x_train,y_train)\n",
        "  y_tr = model.predict(x_train)\n",
        "  print(accuracy_score(y_tr,y_train))\n",
        "  yPred = model.predict(x_test)\n",
        "  print(accuracy_score(yPred,y_test))"
      ],
      "metadata": {
        "id": "ob_Sszz7kdY5"
      },
      "execution_count": null,
      "outputs": []
    },
    {
      "cell_type": "code",
      "source": [
        "\n",
        "RandomForest(x_train,x_test,y_train,y_test)"
      ],
      "metadata": {
        "colab": {
          "base_uri": "https://localhost:8080/"
        },
        "id": "c89fNi5rkiJN",
        "outputId": "c66576f0-7a94-4c8e-9980-d72ad0565dfa"
      },
      "execution_count": null,
      "outputs": [
        {
          "output_type": "stream",
          "name": "stdout",
          "text": [
            "1.0\n",
            "0.8290598290598291\n"
          ]
        }
      ]
    },
    {
      "cell_type": "code",
      "source": [
        "#decisionTree model\n",
        "def decisionTree(x_train,x_test,y_train,y_test):\n",
        " model = DecisionTreeClassifier()\n",
        " model.fit(x_train,y_train)\n",
        " y_tr = model.predict(x_train)\n",
        " print(accuracy_score(y_tr,y_train))\n",
        " yPred = model.predict(x_test)\n",
        " print(accuracy_score(yPred,y_test))\n"
      ],
      "metadata": {
        "id": "dvEXDNvlkmDe"
      },
      "execution_count": null,
      "outputs": []
    },
    {
      "cell_type": "code",
      "source": [
        "\n",
        "decisionTree(x_train,x_test,y_train,y_test)"
      ],
      "metadata": {
        "colab": {
          "base_uri": "https://localhost:8080/"
        },
        "id": "-HXZZOlGkqKW",
        "outputId": "991baca0-a761-4ef4-d545-9ec8ed005718"
      },
      "execution_count": null,
      "outputs": [
        {
          "output_type": "stream",
          "name": "stdout",
          "text": [
            "1.0\n",
            "0.7735042735042735\n"
          ]
        }
      ]
    },
    {
      "cell_type": "code",
      "source": [
        "#KNN model\n",
        "def KNN(x_train,x_test,y_train,y_test):\n",
        "  model = KNeighborsClassifier()\n",
        "  model.fit(x_train,y_train)\n",
        "  y_tr = model.predict(x_train)\n",
        "  print(accuracy_score(y_tr,y_train))\n",
        "  yPred = model.predict(x_test)\n",
        "  print(accuracy_score(yPred,y_test))\n"
      ],
      "metadata": {
        "id": "M461ubTckt3e"
      },
      "execution_count": null,
      "outputs": []
    },
    {
      "cell_type": "code",
      "source": [
        "KNN(x_train,x_test,y_train,y_test)"
      ],
      "metadata": {
        "colab": {
          "base_uri": "https://localhost:8080/"
        },
        "id": "sZLP7Nthk0tm",
        "outputId": "51a1d78f-584f-4372-86dd-c6859ba5c939"
      },
      "execution_count": null,
      "outputs": [
        {
          "output_type": "stream",
          "name": "stdout",
          "text": [
            "0.8375527426160337\n",
            "0.7435897435897436\n"
          ]
        }
      ]
    },
    {
      "cell_type": "code",
      "source": [
        "#XGB model\n",
        "def XGB(x_train,x_test,y_train,y_test):\n",
        "  model = GradientBoostingClassifier()\n",
        "  model.fit(x_train,y_train)\n",
        "  y_tr = model.predict(x_train)\n",
        "  print(accuracy_score(y_tr,y_train))\n",
        "  yPred = model.predict(x_test)\n",
        "  print(accuracy_score(yPred,y_test))\n"
      ],
      "metadata": {
        "id": "nnj4k56ek4qu"
      },
      "execution_count": null,
      "outputs": []
    },
    {
      "cell_type": "code",
      "source": [
        "\n",
        "XGB(x_train,x_test,y_train,y_test)"
      ],
      "metadata": {
        "colab": {
          "base_uri": "https://localhost:8080/"
        },
        "id": "k6TpVrfsk8IE",
        "outputId": "05eb9660-1ac2-42fe-aaab-45fa661269d2"
      },
      "execution_count": null,
      "outputs": [
        {
          "output_type": "stream",
          "name": "stdout",
          "text": [
            "0.9240506329113924\n",
            "0.8205128205128205\n"
          ]
        }
      ]
    },
    {
      "cell_type": "code",
      "source": [
        "import tensorflow\n",
        "from tensorflow.keras.models import Sequential\n",
        "from tensorflow.keras.layers import Dense\n",
        "classifier = Sequential()\n",
        "classifier.add(Dense(units=100, activation='relu', input_dim=11))\n",
        "classifier.add(Dense(units=50, activation='relu'))\n",
        "classifier.add(Dense(units=1, activation='sigmoid'))\n",
        "classifier.compile(optimizer='adam', loss='binary_crossentropy', metrics=['accuracy'])\n",
        "classifier.fit(x_train,y_train,batch_size=100, validation_split=0.2, epochs=100)"
      ],
      "metadata": {
        "colab": {
          "base_uri": "https://localhost:8080/"
        },
        "id": "iE3h-DCOlBi2",
        "outputId": "5d2b4f8f-0023-47c1-b5ee-a81fb6169b7a"
      },
      "execution_count": null,
      "outputs": [
        {
          "output_type": "stream",
          "name": "stdout",
          "text": [
            "Epoch 1/100\n",
            "4/4 [==============================] - 1s 86ms/step - loss: 0.6777 - accuracy: 0.5778 - val_loss: 0.6719 - val_accuracy: 0.5789\n",
            "Epoch 2/100\n",
            "4/4 [==============================] - 0s 13ms/step - loss: 0.6364 - accuracy: 0.7018 - val_loss: 0.6334 - val_accuracy: 0.6947\n",
            "Epoch 3/100\n",
            "4/4 [==============================] - 0s 13ms/step - loss: 0.6012 - accuracy: 0.7757 - val_loss: 0.6029 - val_accuracy: 0.7368\n",
            "Epoch 4/100\n",
            "4/4 [==============================] - 0s 15ms/step - loss: 0.5707 - accuracy: 0.7889 - val_loss: 0.5760 - val_accuracy: 0.7368\n",
            "Epoch 5/100\n",
            "4/4 [==============================] - 0s 20ms/step - loss: 0.5438 - accuracy: 0.8047 - val_loss: 0.5496 - val_accuracy: 0.7789\n",
            "Epoch 6/100\n",
            "4/4 [==============================] - 0s 21ms/step - loss: 0.5185 - accuracy: 0.8021 - val_loss: 0.5275 - val_accuracy: 0.8000\n",
            "Epoch 7/100\n",
            "4/4 [==============================] - 0s 19ms/step - loss: 0.4972 - accuracy: 0.8021 - val_loss: 0.5067 - val_accuracy: 0.8000\n",
            "Epoch 8/100\n",
            "4/4 [==============================] - 0s 14ms/step - loss: 0.4753 - accuracy: 0.8127 - val_loss: 0.4910 - val_accuracy: 0.7895\n",
            "Epoch 9/100\n",
            "4/4 [==============================] - 0s 20ms/step - loss: 0.4584 - accuracy: 0.8127 - val_loss: 0.4779 - val_accuracy: 0.7895\n",
            "Epoch 10/100\n",
            "4/4 [==============================] - 0s 18ms/step - loss: 0.4442 - accuracy: 0.8127 - val_loss: 0.4658 - val_accuracy: 0.8105\n",
            "Epoch 11/100\n",
            "4/4 [==============================] - 0s 13ms/step - loss: 0.4307 - accuracy: 0.8100 - val_loss: 0.4557 - val_accuracy: 0.8105\n",
            "Epoch 12/100\n",
            "4/4 [==============================] - 0s 20ms/step - loss: 0.4190 - accuracy: 0.8153 - val_loss: 0.4462 - val_accuracy: 0.8105\n",
            "Epoch 13/100\n",
            "4/4 [==============================] - 0s 19ms/step - loss: 0.4112 - accuracy: 0.8153 - val_loss: 0.4380 - val_accuracy: 0.8105\n",
            "Epoch 14/100\n",
            "4/4 [==============================] - 0s 19ms/step - loss: 0.4028 - accuracy: 0.8206 - val_loss: 0.4329 - val_accuracy: 0.8105\n",
            "Epoch 15/100\n",
            "4/4 [==============================] - 0s 20ms/step - loss: 0.3960 - accuracy: 0.8179 - val_loss: 0.4317 - val_accuracy: 0.8211\n",
            "Epoch 16/100\n",
            "4/4 [==============================] - 0s 20ms/step - loss: 0.3899 - accuracy: 0.8179 - val_loss: 0.4313 - val_accuracy: 0.7789\n",
            "Epoch 17/100\n",
            "4/4 [==============================] - 0s 19ms/step - loss: 0.3846 - accuracy: 0.8153 - val_loss: 0.4308 - val_accuracy: 0.7789\n",
            "Epoch 18/100\n",
            "4/4 [==============================] - 0s 21ms/step - loss: 0.3803 - accuracy: 0.8206 - val_loss: 0.4324 - val_accuracy: 0.7789\n",
            "Epoch 19/100\n",
            "4/4 [==============================] - 0s 14ms/step - loss: 0.3764 - accuracy: 0.8206 - val_loss: 0.4321 - val_accuracy: 0.7789\n",
            "Epoch 20/100\n",
            "4/4 [==============================] - 0s 19ms/step - loss: 0.3722 - accuracy: 0.8285 - val_loss: 0.4338 - val_accuracy: 0.7789\n",
            "Epoch 21/100\n",
            "4/4 [==============================] - 0s 19ms/step - loss: 0.3690 - accuracy: 0.8232 - val_loss: 0.4355 - val_accuracy: 0.7789\n",
            "Epoch 22/100\n",
            "4/4 [==============================] - 0s 17ms/step - loss: 0.3657 - accuracy: 0.8285 - val_loss: 0.4365 - val_accuracy: 0.7789\n",
            "Epoch 23/100\n",
            "4/4 [==============================] - 0s 19ms/step - loss: 0.3623 - accuracy: 0.8259 - val_loss: 0.4405 - val_accuracy: 0.7789\n",
            "Epoch 24/100\n",
            "4/4 [==============================] - 0s 16ms/step - loss: 0.3591 - accuracy: 0.8285 - val_loss: 0.4431 - val_accuracy: 0.7789\n",
            "Epoch 25/100\n",
            "4/4 [==============================] - 0s 21ms/step - loss: 0.3566 - accuracy: 0.8285 - val_loss: 0.4457 - val_accuracy: 0.7789\n",
            "Epoch 26/100\n",
            "4/4 [==============================] - 0s 13ms/step - loss: 0.3542 - accuracy: 0.8285 - val_loss: 0.4464 - val_accuracy: 0.7789\n",
            "Epoch 27/100\n",
            "4/4 [==============================] - 0s 18ms/step - loss: 0.3510 - accuracy: 0.8364 - val_loss: 0.4480 - val_accuracy: 0.7789\n",
            "Epoch 28/100\n",
            "4/4 [==============================] - 0s 19ms/step - loss: 0.3482 - accuracy: 0.8417 - val_loss: 0.4490 - val_accuracy: 0.7789\n",
            "Epoch 29/100\n",
            "4/4 [==============================] - 0s 13ms/step - loss: 0.3455 - accuracy: 0.8417 - val_loss: 0.4508 - val_accuracy: 0.7789\n",
            "Epoch 30/100\n",
            "4/4 [==============================] - 0s 14ms/step - loss: 0.3428 - accuracy: 0.8417 - val_loss: 0.4532 - val_accuracy: 0.7684\n",
            "Epoch 31/100\n",
            "4/4 [==============================] - 0s 14ms/step - loss: 0.3408 - accuracy: 0.8338 - val_loss: 0.4584 - val_accuracy: 0.7368\n",
            "Epoch 32/100\n",
            "4/4 [==============================] - 0s 21ms/step - loss: 0.3382 - accuracy: 0.8364 - val_loss: 0.4609 - val_accuracy: 0.7474\n",
            "Epoch 33/100\n",
            "4/4 [==============================] - 0s 24ms/step - loss: 0.3360 - accuracy: 0.8417 - val_loss: 0.4624 - val_accuracy: 0.7368\n",
            "Epoch 34/100\n",
            "4/4 [==============================] - 0s 25ms/step - loss: 0.3336 - accuracy: 0.8417 - val_loss: 0.4638 - val_accuracy: 0.7368\n",
            "Epoch 35/100\n",
            "4/4 [==============================] - 0s 25ms/step - loss: 0.3311 - accuracy: 0.8417 - val_loss: 0.4681 - val_accuracy: 0.7368\n",
            "Epoch 36/100\n",
            "4/4 [==============================] - 0s 23ms/step - loss: 0.3293 - accuracy: 0.8417 - val_loss: 0.4699 - val_accuracy: 0.7474\n",
            "Epoch 37/100\n",
            "4/4 [==============================] - 0s 27ms/step - loss: 0.3268 - accuracy: 0.8470 - val_loss: 0.4700 - val_accuracy: 0.7474\n",
            "Epoch 38/100\n",
            "4/4 [==============================] - 0s 24ms/step - loss: 0.3248 - accuracy: 0.8470 - val_loss: 0.4736 - val_accuracy: 0.7474\n",
            "Epoch 39/100\n",
            "4/4 [==============================] - 0s 25ms/step - loss: 0.3221 - accuracy: 0.8496 - val_loss: 0.4757 - val_accuracy: 0.7474\n",
            "Epoch 40/100\n",
            "4/4 [==============================] - 0s 21ms/step - loss: 0.3206 - accuracy: 0.8522 - val_loss: 0.4807 - val_accuracy: 0.7474\n",
            "Epoch 41/100\n",
            "4/4 [==============================] - 0s 25ms/step - loss: 0.3179 - accuracy: 0.8522 - val_loss: 0.4823 - val_accuracy: 0.7474\n",
            "Epoch 42/100\n",
            "4/4 [==============================] - 0s 19ms/step - loss: 0.3160 - accuracy: 0.8549 - val_loss: 0.4849 - val_accuracy: 0.7474\n",
            "Epoch 43/100\n",
            "4/4 [==============================] - 0s 24ms/step - loss: 0.3146 - accuracy: 0.8549 - val_loss: 0.4849 - val_accuracy: 0.7474\n",
            "Epoch 44/100\n",
            "4/4 [==============================] - 0s 26ms/step - loss: 0.3120 - accuracy: 0.8496 - val_loss: 0.4871 - val_accuracy: 0.7474\n",
            "Epoch 45/100\n",
            "4/4 [==============================] - 0s 24ms/step - loss: 0.3101 - accuracy: 0.8470 - val_loss: 0.4910 - val_accuracy: 0.7474\n",
            "Epoch 46/100\n",
            "4/4 [==============================] - 0s 23ms/step - loss: 0.3084 - accuracy: 0.8470 - val_loss: 0.4962 - val_accuracy: 0.7474\n",
            "Epoch 47/100\n",
            "4/4 [==============================] - 0s 24ms/step - loss: 0.3062 - accuracy: 0.8575 - val_loss: 0.4981 - val_accuracy: 0.7474\n",
            "Epoch 48/100\n",
            "4/4 [==============================] - 0s 26ms/step - loss: 0.3044 - accuracy: 0.8654 - val_loss: 0.4975 - val_accuracy: 0.7474\n",
            "Epoch 49/100\n",
            "4/4 [==============================] - 0s 26ms/step - loss: 0.3023 - accuracy: 0.8681 - val_loss: 0.4994 - val_accuracy: 0.7474\n",
            "Epoch 50/100\n",
            "4/4 [==============================] - 0s 18ms/step - loss: 0.3008 - accuracy: 0.8707 - val_loss: 0.4999 - val_accuracy: 0.7474\n",
            "Epoch 51/100\n",
            "4/4 [==============================] - 0s 18ms/step - loss: 0.2997 - accuracy: 0.8522 - val_loss: 0.5049 - val_accuracy: 0.7474\n",
            "Epoch 52/100\n",
            "4/4 [==============================] - 0s 24ms/step - loss: 0.2967 - accuracy: 0.8575 - val_loss: 0.5089 - val_accuracy: 0.7368\n",
            "Epoch 53/100\n",
            "4/4 [==============================] - 0s 24ms/step - loss: 0.2941 - accuracy: 0.8602 - val_loss: 0.5117 - val_accuracy: 0.7474\n",
            "Epoch 54/100\n",
            "4/4 [==============================] - 0s 29ms/step - loss: 0.2924 - accuracy: 0.8734 - val_loss: 0.5126 - val_accuracy: 0.7474\n",
            "Epoch 55/100\n",
            "4/4 [==============================] - 0s 24ms/step - loss: 0.2906 - accuracy: 0.8734 - val_loss: 0.5126 - val_accuracy: 0.7368\n",
            "Epoch 56/100\n",
            "4/4 [==============================] - 0s 26ms/step - loss: 0.2892 - accuracy: 0.8602 - val_loss: 0.5154 - val_accuracy: 0.7263\n",
            "Epoch 57/100\n",
            "4/4 [==============================] - 0s 19ms/step - loss: 0.2867 - accuracy: 0.8628 - val_loss: 0.5184 - val_accuracy: 0.7368\n",
            "Epoch 58/100\n",
            "4/4 [==============================] - 0s 20ms/step - loss: 0.2843 - accuracy: 0.8707 - val_loss: 0.5230 - val_accuracy: 0.7474\n",
            "Epoch 59/100\n",
            "4/4 [==============================] - 0s 25ms/step - loss: 0.2834 - accuracy: 0.8813 - val_loss: 0.5263 - val_accuracy: 0.7474\n",
            "Epoch 60/100\n",
            "4/4 [==============================] - 0s 28ms/step - loss: 0.2805 - accuracy: 0.8839 - val_loss: 0.5260 - val_accuracy: 0.7368\n",
            "Epoch 61/100\n",
            "4/4 [==============================] - 0s 19ms/step - loss: 0.2790 - accuracy: 0.8786 - val_loss: 0.5283 - val_accuracy: 0.7368\n",
            "Epoch 62/100\n",
            "4/4 [==============================] - 0s 27ms/step - loss: 0.2784 - accuracy: 0.8734 - val_loss: 0.5313 - val_accuracy: 0.7368\n",
            "Epoch 63/100\n",
            "4/4 [==============================] - 0s 24ms/step - loss: 0.2753 - accuracy: 0.8707 - val_loss: 0.5322 - val_accuracy: 0.7368\n",
            "Epoch 64/100\n",
            "4/4 [==============================] - 0s 24ms/step - loss: 0.2732 - accuracy: 0.8839 - val_loss: 0.5357 - val_accuracy: 0.7368\n",
            "Epoch 65/100\n",
            "4/4 [==============================] - 0s 24ms/step - loss: 0.2717 - accuracy: 0.8839 - val_loss: 0.5372 - val_accuracy: 0.7368\n",
            "Epoch 66/100\n",
            "4/4 [==============================] - 0s 23ms/step - loss: 0.2698 - accuracy: 0.8813 - val_loss: 0.5403 - val_accuracy: 0.7368\n",
            "Epoch 67/100\n",
            "4/4 [==============================] - 0s 16ms/step - loss: 0.2675 - accuracy: 0.8786 - val_loss: 0.5435 - val_accuracy: 0.7368\n",
            "Epoch 68/100\n",
            "4/4 [==============================] - 0s 13ms/step - loss: 0.2667 - accuracy: 0.8760 - val_loss: 0.5463 - val_accuracy: 0.7263\n",
            "Epoch 69/100\n",
            "4/4 [==============================] - 0s 14ms/step - loss: 0.2649 - accuracy: 0.8760 - val_loss: 0.5490 - val_accuracy: 0.7368\n",
            "Epoch 70/100\n",
            "4/4 [==============================] - 0s 13ms/step - loss: 0.2624 - accuracy: 0.8839 - val_loss: 0.5522 - val_accuracy: 0.7368\n",
            "Epoch 71/100\n",
            "4/4 [==============================] - 0s 14ms/step - loss: 0.2609 - accuracy: 0.8892 - val_loss: 0.5536 - val_accuracy: 0.7474\n",
            "Epoch 72/100\n",
            "4/4 [==============================] - 0s 13ms/step - loss: 0.2588 - accuracy: 0.8865 - val_loss: 0.5599 - val_accuracy: 0.7474\n",
            "Epoch 73/100\n",
            "4/4 [==============================] - 0s 14ms/step - loss: 0.2576 - accuracy: 0.8813 - val_loss: 0.5625 - val_accuracy: 0.7368\n",
            "Epoch 74/100\n",
            "4/4 [==============================] - 0s 21ms/step - loss: 0.2554 - accuracy: 0.8865 - val_loss: 0.5654 - val_accuracy: 0.7474\n",
            "Epoch 75/100\n",
            "4/4 [==============================] - 0s 14ms/step - loss: 0.2533 - accuracy: 0.8865 - val_loss: 0.5634 - val_accuracy: 0.7474\n",
            "Epoch 76/100\n",
            "4/4 [==============================] - 0s 20ms/step - loss: 0.2518 - accuracy: 0.8839 - val_loss: 0.5641 - val_accuracy: 0.7474\n",
            "Epoch 77/100\n",
            "4/4 [==============================] - 0s 20ms/step - loss: 0.2505 - accuracy: 0.8839 - val_loss: 0.5639 - val_accuracy: 0.7368\n",
            "Epoch 78/100\n",
            "4/4 [==============================] - 0s 19ms/step - loss: 0.2485 - accuracy: 0.8813 - val_loss: 0.5719 - val_accuracy: 0.7474\n",
            "Epoch 79/100\n",
            "4/4 [==============================] - 0s 14ms/step - loss: 0.2470 - accuracy: 0.8892 - val_loss: 0.5770 - val_accuracy: 0.7263\n",
            "Epoch 80/100\n",
            "4/4 [==============================] - 0s 14ms/step - loss: 0.2453 - accuracy: 0.8839 - val_loss: 0.5760 - val_accuracy: 0.7263\n",
            "Epoch 81/100\n",
            "4/4 [==============================] - 0s 21ms/step - loss: 0.2431 - accuracy: 0.8892 - val_loss: 0.5796 - val_accuracy: 0.7263\n",
            "Epoch 82/100\n",
            "4/4 [==============================] - 0s 15ms/step - loss: 0.2413 - accuracy: 0.8865 - val_loss: 0.5860 - val_accuracy: 0.7263\n",
            "Epoch 83/100\n",
            "4/4 [==============================] - 0s 16ms/step - loss: 0.2398 - accuracy: 0.8865 - val_loss: 0.5915 - val_accuracy: 0.7368\n",
            "Epoch 84/100\n",
            "4/4 [==============================] - 0s 14ms/step - loss: 0.2380 - accuracy: 0.8945 - val_loss: 0.5935 - val_accuracy: 0.7368\n",
            "Epoch 85/100\n",
            "4/4 [==============================] - 0s 13ms/step - loss: 0.2367 - accuracy: 0.8918 - val_loss: 0.5931 - val_accuracy: 0.7263\n",
            "Epoch 86/100\n",
            "4/4 [==============================] - 0s 19ms/step - loss: 0.2359 - accuracy: 0.8918 - val_loss: 0.5929 - val_accuracy: 0.7263\n",
            "Epoch 87/100\n",
            "4/4 [==============================] - 0s 13ms/step - loss: 0.2339 - accuracy: 0.8971 - val_loss: 0.5984 - val_accuracy: 0.7263\n",
            "Epoch 88/100\n",
            "4/4 [==============================] - 0s 13ms/step - loss: 0.2318 - accuracy: 0.9024 - val_loss: 0.6052 - val_accuracy: 0.7474\n",
            "Epoch 89/100\n",
            "4/4 [==============================] - 0s 13ms/step - loss: 0.2301 - accuracy: 0.9103 - val_loss: 0.6077 - val_accuracy: 0.7263\n",
            "Epoch 90/100\n",
            "4/4 [==============================] - 0s 16ms/step - loss: 0.2287 - accuracy: 0.9077 - val_loss: 0.6076 - val_accuracy: 0.7263\n",
            "Epoch 91/100\n",
            "4/4 [==============================] - 0s 15ms/step - loss: 0.2272 - accuracy: 0.9050 - val_loss: 0.6115 - val_accuracy: 0.7263\n",
            "Epoch 92/100\n",
            "4/4 [==============================] - 0s 13ms/step - loss: 0.2249 - accuracy: 0.9077 - val_loss: 0.6136 - val_accuracy: 0.7368\n",
            "Epoch 93/100\n",
            "4/4 [==============================] - 0s 19ms/step - loss: 0.2237 - accuracy: 0.9050 - val_loss: 0.6130 - val_accuracy: 0.7368\n",
            "Epoch 94/100\n",
            "4/4 [==============================] - 0s 19ms/step - loss: 0.2237 - accuracy: 0.9050 - val_loss: 0.6144 - val_accuracy: 0.7368\n",
            "Epoch 95/100\n",
            "4/4 [==============================] - 0s 19ms/step - loss: 0.2211 - accuracy: 0.8997 - val_loss: 0.6198 - val_accuracy: 0.7158\n",
            "Epoch 96/100\n",
            "4/4 [==============================] - 0s 20ms/step - loss: 0.2189 - accuracy: 0.9077 - val_loss: 0.6278 - val_accuracy: 0.7263\n",
            "Epoch 97/100\n",
            "4/4 [==============================] - 0s 13ms/step - loss: 0.2177 - accuracy: 0.9156 - val_loss: 0.6327 - val_accuracy: 0.7263\n",
            "Epoch 98/100\n",
            "4/4 [==============================] - 0s 13ms/step - loss: 0.2168 - accuracy: 0.9077 - val_loss: 0.6365 - val_accuracy: 0.7158\n",
            "Epoch 99/100\n",
            "4/4 [==============================] - 0s 13ms/step - loss: 0.2149 - accuracy: 0.9129 - val_loss: 0.6403 - val_accuracy: 0.7263\n",
            "Epoch 100/100\n",
            "4/4 [==============================] - 0s 20ms/step - loss: 0.2128 - accuracy: 0.9156 - val_loss: 0.6381 - val_accuracy: 0.7263\n"
          ]
        },
        {
          "output_type": "execute_result",
          "data": {
            "text/plain": [
              "<keras.callbacks.History at 0x7fa780ddc160>"
            ]
          },
          "metadata": {},
          "execution_count": 35
        }
      ]
    },
    {
      "cell_type": "code",
      "source": [
        "y_pred = classifier.predict(x_test)"
      ],
      "metadata": {
        "colab": {
          "base_uri": "https://localhost:8080/"
        },
        "id": "2WaksUw8lLce",
        "outputId": "94fb79d5-ef07-4734-a0c9-4637186d37d7"
      },
      "execution_count": null,
      "outputs": [
        {
          "output_type": "stream",
          "name": "stdout",
          "text": [
            "8/8 [==============================] - 0s 4ms/step\n"
          ]
        }
      ]
    },
    {
      "cell_type": "code",
      "source": [
        "\n",
        "y_pred"
      ],
      "metadata": {
        "colab": {
          "base_uri": "https://localhost:8080/"
        },
        "id": "GOwVdD87lO6N",
        "outputId": "772d95ba-32ce-4faf-d20c-8f7c1da86ed2"
      },
      "execution_count": null,
      "outputs": [
        {
          "output_type": "execute_result",
          "data": {
            "text/plain": [
              "array([[9.01962340e-01],\n",
              "       [9.15753782e-01],\n",
              "       [8.81384730e-01],\n",
              "       [8.88931036e-01],\n",
              "       [1.93579050e-04],\n",
              "       [9.14487362e-01],\n",
              "       [8.93640518e-01],\n",
              "       [8.85217249e-01],\n",
              "       [1.56687608e-03],\n",
              "       [7.56815672e-01],\n",
              "       [1.71202933e-03],\n",
              "       [7.73346245e-01],\n",
              "       [5.99376440e-01],\n",
              "       [9.45215225e-01],\n",
              "       [1.28541460e-05],\n",
              "       [9.12889719e-01],\n",
              "       [9.87916112e-01],\n",
              "       [4.94978216e-04],\n",
              "       [8.30464244e-01],\n",
              "       [9.47577178e-01],\n",
              "       [6.58377469e-01],\n",
              "       [8.88274670e-01],\n",
              "       [9.35877800e-01],\n",
              "       [3.25810222e-04],\n",
              "       [1.04989245e-04],\n",
              "       [9.61987495e-01],\n",
              "       [9.75043774e-01],\n",
              "       [7.62053430e-01],\n",
              "       [9.86301661e-01],\n",
              "       [9.18268144e-01],\n",
              "       [2.29094985e-05],\n",
              "       [8.88296843e-01],\n",
              "       [9.14759576e-01],\n",
              "       [3.16016078e-01],\n",
              "       [8.72870147e-01],\n",
              "       [1.57376763e-03],\n",
              "       [8.79902840e-01],\n",
              "       [7.85496593e-01],\n",
              "       [6.76390767e-01],\n",
              "       [7.96486437e-01],\n",
              "       [8.72521758e-01],\n",
              "       [7.12752879e-01],\n",
              "       [9.53974068e-01],\n",
              "       [6.03141785e-01],\n",
              "       [1.67374033e-04],\n",
              "       [8.87659669e-01],\n",
              "       [2.32500330e-04],\n",
              "       [5.72016984e-02],\n",
              "       [9.97263968e-01],\n",
              "       [5.78108666e-05],\n",
              "       [9.02500391e-01],\n",
              "       [8.60996604e-01],\n",
              "       [9.40496743e-01],\n",
              "       [4.58562762e-01],\n",
              "       [8.08189332e-01],\n",
              "       [6.26531124e-01],\n",
              "       [1.22632235e-04],\n",
              "       [2.12621942e-01],\n",
              "       [5.64690411e-01],\n",
              "       [4.28288132e-01],\n",
              "       [7.28011072e-01],\n",
              "       [6.44603193e-01],\n",
              "       [1.29928827e-01],\n",
              "       [9.72529506e-06],\n",
              "       [7.09720552e-01],\n",
              "       [1.31500274e-01],\n",
              "       [7.10148513e-01],\n",
              "       [2.21005931e-01],\n",
              "       [9.80572462e-01],\n",
              "       [8.49823117e-01],\n",
              "       [8.59368205e-01],\n",
              "       [1.50203601e-01],\n",
              "       [7.48401046e-01],\n",
              "       [1.16948073e-03],\n",
              "       [1.94057807e-01],\n",
              "       [9.34502006e-01],\n",
              "       [9.39871430e-01],\n",
              "       [6.63278639e-01],\n",
              "       [7.37774826e-04],\n",
              "       [4.35458096e-05],\n",
              "       [6.10881448e-01],\n",
              "       [5.02728224e-01],\n",
              "       [7.91067123e-01],\n",
              "       [9.54550087e-01],\n",
              "       [6.24426365e-01],\n",
              "       [9.38929200e-01],\n",
              "       [9.83865678e-01],\n",
              "       [9.80901599e-01],\n",
              "       [4.52383101e-04],\n",
              "       [8.12667787e-01],\n",
              "       [1.04282252e-01],\n",
              "       [3.74856085e-01],\n",
              "       [9.60130394e-01],\n",
              "       [8.90512466e-01],\n",
              "       [7.83274651e-01],\n",
              "       [9.84926820e-01],\n",
              "       [7.28150306e-04],\n",
              "       [9.86911178e-01],\n",
              "       [9.82296050e-01],\n",
              "       [9.93516684e-01],\n",
              "       [4.41884564e-04],\n",
              "       [6.58948324e-04],\n",
              "       [7.48578370e-01],\n",
              "       [9.68950272e-01],\n",
              "       [5.84642310e-03],\n",
              "       [9.71604407e-01],\n",
              "       [3.53312265e-04],\n",
              "       [5.50870776e-01],\n",
              "       [8.17741930e-01],\n",
              "       [9.91628468e-01],\n",
              "       [7.53520906e-01],\n",
              "       [2.86529394e-04],\n",
              "       [8.55252445e-01],\n",
              "       [8.59005153e-01],\n",
              "       [4.44055535e-02],\n",
              "       [8.67591560e-01],\n",
              "       [5.31244457e-01],\n",
              "       [9.26030636e-01],\n",
              "       [5.06010652e-01],\n",
              "       [1.96100184e-04],\n",
              "       [4.00867723e-02],\n",
              "       [8.50510836e-01],\n",
              "       [8.63641143e-01],\n",
              "       [9.51976597e-01],\n",
              "       [8.41985285e-01],\n",
              "       [7.45040357e-01],\n",
              "       [9.63998795e-01],\n",
              "       [1.13072008e-01],\n",
              "       [8.39946628e-01],\n",
              "       [2.00135182e-04],\n",
              "       [9.36817706e-01],\n",
              "       [8.13713074e-01],\n",
              "       [7.65343189e-01],\n",
              "       [8.68627012e-01],\n",
              "       [4.32194591e-01],\n",
              "       [2.10983202e-01],\n",
              "       [9.48827267e-01],\n",
              "       [7.45279610e-01],\n",
              "       [6.49097681e-01],\n",
              "       [3.66840124e-01],\n",
              "       [8.58757436e-01],\n",
              "       [8.59687686e-01],\n",
              "       [3.43447626e-01],\n",
              "       [8.44278216e-01],\n",
              "       [8.41745317e-01],\n",
              "       [8.64227176e-01],\n",
              "       [7.69402146e-01],\n",
              "       [3.92796904e-01],\n",
              "       [8.10645580e-01],\n",
              "       [9.85878289e-01],\n",
              "       [9.53509867e-01],\n",
              "       [1.10778987e-01],\n",
              "       [5.98598838e-01],\n",
              "       [1.88055448e-04],\n",
              "       [1.15314324e-03],\n",
              "       [1.10952598e-04],\n",
              "       [1.41664670e-04],\n",
              "       [3.96572948e-01],\n",
              "       [8.62630010e-01],\n",
              "       [4.34995174e-01],\n",
              "       [9.21368957e-01],\n",
              "       [6.60958176e-05],\n",
              "       [8.51445890e-04],\n",
              "       [7.37181664e-01],\n",
              "       [1.47544208e-03],\n",
              "       [8.87882531e-01],\n",
              "       [9.90587294e-01],\n",
              "       [7.83527613e-01],\n",
              "       [6.53463900e-02],\n",
              "       [8.74068856e-01],\n",
              "       [6.05925739e-01],\n",
              "       [9.77275908e-01],\n",
              "       [6.36357129e-01],\n",
              "       [1.16821262e-03],\n",
              "       [8.08374166e-01],\n",
              "       [1.45511231e-05],\n",
              "       [3.23783219e-01],\n",
              "       [4.27307299e-04],\n",
              "       [6.40554205e-02],\n",
              "       [4.13502127e-01],\n",
              "       [9.95658159e-01],\n",
              "       [6.18423998e-01],\n",
              "       [7.30509639e-01],\n",
              "       [3.84103298e-01],\n",
              "       [5.49511835e-02],\n",
              "       [2.67985542e-05],\n",
              "       [9.70377028e-01],\n",
              "       [7.91574776e-01],\n",
              "       [5.05155146e-01],\n",
              "       [5.37754921e-03],\n",
              "       [9.96585250e-01],\n",
              "       [1.92835182e-06],\n",
              "       [9.61942613e-01],\n",
              "       [8.95063937e-01],\n",
              "       [6.85887754e-01],\n",
              "       [7.39179843e-04],\n",
              "       [6.59147918e-01],\n",
              "       [1.15247280e-03],\n",
              "       [5.44015169e-01],\n",
              "       [3.49037021e-01],\n",
              "       [1.44345403e-01],\n",
              "       [6.99557224e-03],\n",
              "       [9.56269443e-01],\n",
              "       [3.38186711e-01],\n",
              "       [9.92626607e-01],\n",
              "       [1.45499152e-05],\n",
              "       [1.24234852e-04],\n",
              "       [8.63752544e-01],\n",
              "       [7.47933328e-01],\n",
              "       [7.48987734e-01],\n",
              "       [9.95400190e-01],\n",
              "       [8.60834241e-01],\n",
              "       [8.19225252e-01],\n",
              "       [9.93728817e-01],\n",
              "       [2.12257164e-05],\n",
              "       [7.74565756e-01],\n",
              "       [5.13082623e-01],\n",
              "       [7.95142129e-02],\n",
              "       [4.37613373e-04],\n",
              "       [8.91571283e-01],\n",
              "       [5.41605428e-03],\n",
              "       [8.55636895e-01],\n",
              "       [3.44729749e-04],\n",
              "       [8.05912793e-01],\n",
              "       [8.38719726e-01],\n",
              "       [9.90038514e-01],\n",
              "       [9.96871829e-01],\n",
              "       [1.23405512e-02],\n",
              "       [9.29605544e-01],\n",
              "       [2.11794734e-01],\n",
              "       [7.45742440e-01],\n",
              "       [5.41425869e-02],\n",
              "       [9.50487554e-01],\n",
              "       [1.18126895e-03]], dtype=float32)"
            ]
          },
          "metadata": {},
          "execution_count": 37
        }
      ]
    },
    {
      "cell_type": "code",
      "source": [
        "\n",
        "y_pred = y_pred.astype(int)\n",
        "y_pred"
      ],
      "metadata": {
        "colab": {
          "base_uri": "https://localhost:8080/"
        },
        "id": "odIlFglElWYl",
        "outputId": "05045a6f-871f-4903-c55b-dbaf0e161708"
      },
      "execution_count": null,
      "outputs": [
        {
          "output_type": "execute_result",
          "data": {
            "text/plain": [
              "array([[0],\n",
              "       [0],\n",
              "       [0],\n",
              "       [0],\n",
              "       [0],\n",
              "       [0],\n",
              "       [0],\n",
              "       [0],\n",
              "       [0],\n",
              "       [0],\n",
              "       [0],\n",
              "       [0],\n",
              "       [0],\n",
              "       [0],\n",
              "       [0],\n",
              "       [0],\n",
              "       [0],\n",
              "       [0],\n",
              "       [0],\n",
              "       [0],\n",
              "       [0],\n",
              "       [0],\n",
              "       [0],\n",
              "       [0],\n",
              "       [0],\n",
              "       [0],\n",
              "       [0],\n",
              "       [0],\n",
              "       [0],\n",
              "       [0],\n",
              "       [0],\n",
              "       [0],\n",
              "       [0],\n",
              "       [0],\n",
              "       [0],\n",
              "       [0],\n",
              "       [0],\n",
              "       [0],\n",
              "       [0],\n",
              "       [0],\n",
              "       [0],\n",
              "       [0],\n",
              "       [0],\n",
              "       [0],\n",
              "       [0],\n",
              "       [0],\n",
              "       [0],\n",
              "       [0],\n",
              "       [0],\n",
              "       [0],\n",
              "       [0],\n",
              "       [0],\n",
              "       [0],\n",
              "       [0],\n",
              "       [0],\n",
              "       [0],\n",
              "       [0],\n",
              "       [0],\n",
              "       [0],\n",
              "       [0],\n",
              "       [0],\n",
              "       [0],\n",
              "       [0],\n",
              "       [0],\n",
              "       [0],\n",
              "       [0],\n",
              "       [0],\n",
              "       [0],\n",
              "       [0],\n",
              "       [0],\n",
              "       [0],\n",
              "       [0],\n",
              "       [0],\n",
              "       [0],\n",
              "       [0],\n",
              "       [0],\n",
              "       [0],\n",
              "       [0],\n",
              "       [0],\n",
              "       [0],\n",
              "       [0],\n",
              "       [0],\n",
              "       [0],\n",
              "       [0],\n",
              "       [0],\n",
              "       [0],\n",
              "       [0],\n",
              "       [0],\n",
              "       [0],\n",
              "       [0],\n",
              "       [0],\n",
              "       [0],\n",
              "       [0],\n",
              "       [0],\n",
              "       [0],\n",
              "       [0],\n",
              "       [0],\n",
              "       [0],\n",
              "       [0],\n",
              "       [0],\n",
              "       [0],\n",
              "       [0],\n",
              "       [0],\n",
              "       [0],\n",
              "       [0],\n",
              "       [0],\n",
              "       [0],\n",
              "       [0],\n",
              "       [0],\n",
              "       [0],\n",
              "       [0],\n",
              "       [0],\n",
              "       [0],\n",
              "       [0],\n",
              "       [0],\n",
              "       [0],\n",
              "       [0],\n",
              "       [0],\n",
              "       [0],\n",
              "       [0],\n",
              "       [0],\n",
              "       [0],\n",
              "       [0],\n",
              "       [0],\n",
              "       [0],\n",
              "       [0],\n",
              "       [0],\n",
              "       [0],\n",
              "       [0],\n",
              "       [0],\n",
              "       [0],\n",
              "       [0],\n",
              "       [0],\n",
              "       [0],\n",
              "       [0],\n",
              "       [0],\n",
              "       [0],\n",
              "       [0],\n",
              "       [0],\n",
              "       [0],\n",
              "       [0],\n",
              "       [0],\n",
              "       [0],\n",
              "       [0],\n",
              "       [0],\n",
              "       [0],\n",
              "       [0],\n",
              "       [0],\n",
              "       [0],\n",
              "       [0],\n",
              "       [0],\n",
              "       [0],\n",
              "       [0],\n",
              "       [0],\n",
              "       [0],\n",
              "       [0],\n",
              "       [0],\n",
              "       [0],\n",
              "       [0],\n",
              "       [0],\n",
              "       [0],\n",
              "       [0],\n",
              "       [0],\n",
              "       [0],\n",
              "       [0],\n",
              "       [0],\n",
              "       [0],\n",
              "       [0],\n",
              "       [0],\n",
              "       [0],\n",
              "       [0],\n",
              "       [0],\n",
              "       [0],\n",
              "       [0],\n",
              "       [0],\n",
              "       [0],\n",
              "       [0],\n",
              "       [0],\n",
              "       [0],\n",
              "       [0],\n",
              "       [0],\n",
              "       [0],\n",
              "       [0],\n",
              "       [0],\n",
              "       [0],\n",
              "       [0],\n",
              "       [0],\n",
              "       [0],\n",
              "       [0],\n",
              "       [0],\n",
              "       [0],\n",
              "       [0],\n",
              "       [0],\n",
              "       [0],\n",
              "       [0],\n",
              "       [0],\n",
              "       [0],\n",
              "       [0],\n",
              "       [0],\n",
              "       [0],\n",
              "       [0],\n",
              "       [0],\n",
              "       [0],\n",
              "       [0],\n",
              "       [0],\n",
              "       [0],\n",
              "       [0],\n",
              "       [0],\n",
              "       [0],\n",
              "       [0],\n",
              "       [0],\n",
              "       [0],\n",
              "       [0],\n",
              "       [0],\n",
              "       [0],\n",
              "       [0],\n",
              "       [0],\n",
              "       [0],\n",
              "       [0],\n",
              "       [0],\n",
              "       [0],\n",
              "       [0],\n",
              "       [0],\n",
              "       [0],\n",
              "       [0],\n",
              "       [0],\n",
              "       [0],\n",
              "       [0],\n",
              "       [0],\n",
              "       [0],\n",
              "       [0],\n",
              "       [0],\n",
              "       [0],\n",
              "       [0]])"
            ]
          },
          "metadata": {},
          "execution_count": 38
        }
      ]
    },
    {
      "cell_type": "code",
      "source": [
        "dt = DecisionTreeClassifier()\n",
        "dt.fit(x_train,y_train)\n"
      ],
      "metadata": {
        "colab": {
          "base_uri": "https://localhost:8080/",
          "height": 74
        },
        "id": "9PeP6-H4la0_",
        "outputId": "5322e2ae-0fec-4637-e325-67c9d5a2ced8"
      },
      "execution_count": null,
      "outputs": [
        {
          "output_type": "execute_result",
          "data": {
            "text/plain": [
              "DecisionTreeClassifier()"
            ],
            "text/html": [
              "<style>#sk-container-id-1 {color: black;background-color: white;}#sk-container-id-1 pre{padding: 0;}#sk-container-id-1 div.sk-toggleable {background-color: white;}#sk-container-id-1 label.sk-toggleable__label {cursor: pointer;display: block;width: 100%;margin-bottom: 0;padding: 0.3em;box-sizing: border-box;text-align: center;}#sk-container-id-1 label.sk-toggleable__label-arrow:before {content: \"▸\";float: left;margin-right: 0.25em;color: #696969;}#sk-container-id-1 label.sk-toggleable__label-arrow:hover:before {color: black;}#sk-container-id-1 div.sk-estimator:hover label.sk-toggleable__label-arrow:before {color: black;}#sk-container-id-1 div.sk-toggleable__content {max-height: 0;max-width: 0;overflow: hidden;text-align: left;background-color: #f0f8ff;}#sk-container-id-1 div.sk-toggleable__content pre {margin: 0.2em;color: black;border-radius: 0.25em;background-color: #f0f8ff;}#sk-container-id-1 input.sk-toggleable__control:checked~div.sk-toggleable__content {max-height: 200px;max-width: 100%;overflow: auto;}#sk-container-id-1 input.sk-toggleable__control:checked~label.sk-toggleable__label-arrow:before {content: \"▾\";}#sk-container-id-1 div.sk-estimator input.sk-toggleable__control:checked~label.sk-toggleable__label {background-color: #d4ebff;}#sk-container-id-1 div.sk-label input.sk-toggleable__control:checked~label.sk-toggleable__label {background-color: #d4ebff;}#sk-container-id-1 input.sk-hidden--visually {border: 0;clip: rect(1px 1px 1px 1px);clip: rect(1px, 1px, 1px, 1px);height: 1px;margin: -1px;overflow: hidden;padding: 0;position: absolute;width: 1px;}#sk-container-id-1 div.sk-estimator {font-family: monospace;background-color: #f0f8ff;border: 1px dotted black;border-radius: 0.25em;box-sizing: border-box;margin-bottom: 0.5em;}#sk-container-id-1 div.sk-estimator:hover {background-color: #d4ebff;}#sk-container-id-1 div.sk-parallel-item::after {content: \"\";width: 100%;border-bottom: 1px solid gray;flex-grow: 1;}#sk-container-id-1 div.sk-label:hover label.sk-toggleable__label {background-color: #d4ebff;}#sk-container-id-1 div.sk-serial::before {content: \"\";position: absolute;border-left: 1px solid gray;box-sizing: border-box;top: 0;bottom: 0;left: 50%;z-index: 0;}#sk-container-id-1 div.sk-serial {display: flex;flex-direction: column;align-items: center;background-color: white;padding-right: 0.2em;padding-left: 0.2em;position: relative;}#sk-container-id-1 div.sk-item {position: relative;z-index: 1;}#sk-container-id-1 div.sk-parallel {display: flex;align-items: stretch;justify-content: center;background-color: white;position: relative;}#sk-container-id-1 div.sk-item::before, #sk-container-id-1 div.sk-parallel-item::before {content: \"\";position: absolute;border-left: 1px solid gray;box-sizing: border-box;top: 0;bottom: 0;left: 50%;z-index: -1;}#sk-container-id-1 div.sk-parallel-item {display: flex;flex-direction: column;z-index: 1;position: relative;background-color: white;}#sk-container-id-1 div.sk-parallel-item:first-child::after {align-self: flex-end;width: 50%;}#sk-container-id-1 div.sk-parallel-item:last-child::after {align-self: flex-start;width: 50%;}#sk-container-id-1 div.sk-parallel-item:only-child::after {width: 0;}#sk-container-id-1 div.sk-dashed-wrapped {border: 1px dashed gray;margin: 0 0.4em 0.5em 0.4em;box-sizing: border-box;padding-bottom: 0.4em;background-color: white;}#sk-container-id-1 div.sk-label label {font-family: monospace;font-weight: bold;display: inline-block;line-height: 1.2em;}#sk-container-id-1 div.sk-label-container {text-align: center;}#sk-container-id-1 div.sk-container {/* jupyter's `normalize.less` sets `[hidden] { display: none; }` but bootstrap.min.css set `[hidden] { display: none !important; }` so we also need the `!important` here to be able to override the default hidden behavior on the sphinx rendered scikit-learn.org. See: https://github.com/scikit-learn/scikit-learn/issues/21755 */display: inline-block !important;position: relative;}#sk-container-id-1 div.sk-text-repr-fallback {display: none;}</style><div id=\"sk-container-id-1\" class=\"sk-top-container\"><div class=\"sk-text-repr-fallback\"><pre>DecisionTreeClassifier()</pre><b>In a Jupyter environment, please rerun this cell to show the HTML representation or trust the notebook. <br />On GitHub, the HTML representation is unable to render, please try loading this page with nbviewer.org.</b></div><div class=\"sk-container\" hidden><div class=\"sk-item\"><div class=\"sk-estimator sk-toggleable\"><input class=\"sk-toggleable__control sk-hidden--visually\" id=\"sk-estimator-id-1\" type=\"checkbox\" checked><label for=\"sk-estimator-id-1\" class=\"sk-toggleable__label sk-toggleable__label-arrow\">DecisionTreeClassifier</label><div class=\"sk-toggleable__content\"><pre>DecisionTreeClassifier()</pre></div></div></div></div></div>"
            ]
          },
          "metadata": {},
          "execution_count": 39
        }
      ]
    },
    {
      "cell_type": "code",
      "source": [
        "\n",
        "print(classification_report(y_test,dt.predict(x_test)))"
      ],
      "metadata": {
        "colab": {
          "base_uri": "https://localhost:8080/"
        },
        "id": "i5l9s53AlkTd",
        "outputId": "b15d663e-610b-481f-b2f7-51469582710a"
      },
      "execution_count": null,
      "outputs": [
        {
          "output_type": "stream",
          "name": "stdout",
          "text": [
            "              precision    recall  f1-score   support\n",
            "\n",
            "           0       0.77      0.71      0.74       112\n",
            "           1       0.75      0.80      0.78       122\n",
            "\n",
            "    accuracy                           0.76       234\n",
            "   macro avg       0.76      0.76      0.76       234\n",
            "weighted avg       0.76      0.76      0.76       234\n",
            "\n"
          ]
        }
      ]
    },
    {
      "cell_type": "code",
      "source": [
        "\n",
        "confusion_matrix(y_test,dt.predict(x_test))"
      ],
      "metadata": {
        "colab": {
          "base_uri": "https://localhost:8080/"
        },
        "id": "KbKkWZkWlvAd",
        "outputId": "ceaa13bb-572c-4eb3-a757-0e90d807d2b1"
      },
      "execution_count": null,
      "outputs": [
        {
          "output_type": "execute_result",
          "data": {
            "text/plain": [
              "array([[80, 32],\n",
              "       [24, 98]])"
            ]
          },
          "metadata": {},
          "execution_count": 42
        }
      ]
    },
    {
      "cell_type": "code",
      "source": [
        "#checking the accuracy\n",
        "print(accuracy_score(y_pred,y_test))\n",
        "print(\"ANN Model\")\n",
        "print(\"confusion_matrix\")\n",
        "print(confusion_matrix(y_test, y_pred))\n",
        "print(\"classification_report\")\n",
        "print(classification_report(y_test, y_pred))\n"
      ],
      "metadata": {
        "colab": {
          "base_uri": "https://localhost:8080/"
        },
        "id": "DZRXEG-alzSl",
        "outputId": "71371881-e4c2-477e-b98d-4d710c27bfeb"
      },
      "execution_count": null,
      "outputs": [
        {
          "output_type": "stream",
          "name": "stdout",
          "text": [
            "0.47863247863247865\n",
            "ANN Model\n",
            "confusion_matrix\n",
            "[[112   0]\n",
            " [122   0]]\n",
            "classification_report\n",
            "              precision    recall  f1-score   support\n",
            "\n",
            "           0       0.48      1.00      0.65       112\n",
            "           1       0.00      0.00      0.00       122\n",
            "\n",
            "    accuracy                           0.48       234\n",
            "   macro avg       0.24      0.50      0.32       234\n",
            "weighted avg       0.23      0.48      0.31       234\n",
            "\n"
          ]
        }
      ]
    },
    {
      "cell_type": "code",
      "source": [
        "dt.predict([[1,1, 0, 1, 1, 4276, 1542,145, 240, 0,1]])\n"
      ],
      "metadata": {
        "colab": {
          "base_uri": "https://localhost:8080/"
        },
        "id": "vjS1olJol3Xu",
        "outputId": "9047c19f-31ec-4088-e216-4d005e6e5b13"
      },
      "execution_count": null,
      "outputs": [
        {
          "output_type": "execute_result",
          "data": {
            "text/plain": [
              "array([0])"
            ]
          },
          "metadata": {},
          "execution_count": 44
        }
      ]
    },
    {
      "cell_type": "code",
      "source": [
        "\n",
        "rfr = RandomForestClassifier()\n",
        "rfr.fit(x_train,y_train)"
      ],
      "metadata": {
        "colab": {
          "base_uri": "https://localhost:8080/",
          "height": 74
        },
        "id": "YXqgmu-vl7wf",
        "outputId": "cd87707a-df0d-40a3-8745-ffc8a7fadbf3"
      },
      "execution_count": null,
      "outputs": [
        {
          "output_type": "execute_result",
          "data": {
            "text/plain": [
              "RandomForestClassifier()"
            ],
            "text/html": [
              "<style>#sk-container-id-3 {color: black;background-color: white;}#sk-container-id-3 pre{padding: 0;}#sk-container-id-3 div.sk-toggleable {background-color: white;}#sk-container-id-3 label.sk-toggleable__label {cursor: pointer;display: block;width: 100%;margin-bottom: 0;padding: 0.3em;box-sizing: border-box;text-align: center;}#sk-container-id-3 label.sk-toggleable__label-arrow:before {content: \"▸\";float: left;margin-right: 0.25em;color: #696969;}#sk-container-id-3 label.sk-toggleable__label-arrow:hover:before {color: black;}#sk-container-id-3 div.sk-estimator:hover label.sk-toggleable__label-arrow:before {color: black;}#sk-container-id-3 div.sk-toggleable__content {max-height: 0;max-width: 0;overflow: hidden;text-align: left;background-color: #f0f8ff;}#sk-container-id-3 div.sk-toggleable__content pre {margin: 0.2em;color: black;border-radius: 0.25em;background-color: #f0f8ff;}#sk-container-id-3 input.sk-toggleable__control:checked~div.sk-toggleable__content {max-height: 200px;max-width: 100%;overflow: auto;}#sk-container-id-3 input.sk-toggleable__control:checked~label.sk-toggleable__label-arrow:before {content: \"▾\";}#sk-container-id-3 div.sk-estimator input.sk-toggleable__control:checked~label.sk-toggleable__label {background-color: #d4ebff;}#sk-container-id-3 div.sk-label input.sk-toggleable__control:checked~label.sk-toggleable__label {background-color: #d4ebff;}#sk-container-id-3 input.sk-hidden--visually {border: 0;clip: rect(1px 1px 1px 1px);clip: rect(1px, 1px, 1px, 1px);height: 1px;margin: -1px;overflow: hidden;padding: 0;position: absolute;width: 1px;}#sk-container-id-3 div.sk-estimator {font-family: monospace;background-color: #f0f8ff;border: 1px dotted black;border-radius: 0.25em;box-sizing: border-box;margin-bottom: 0.5em;}#sk-container-id-3 div.sk-estimator:hover {background-color: #d4ebff;}#sk-container-id-3 div.sk-parallel-item::after {content: \"\";width: 100%;border-bottom: 1px solid gray;flex-grow: 1;}#sk-container-id-3 div.sk-label:hover label.sk-toggleable__label {background-color: #d4ebff;}#sk-container-id-3 div.sk-serial::before {content: \"\";position: absolute;border-left: 1px solid gray;box-sizing: border-box;top: 0;bottom: 0;left: 50%;z-index: 0;}#sk-container-id-3 div.sk-serial {display: flex;flex-direction: column;align-items: center;background-color: white;padding-right: 0.2em;padding-left: 0.2em;position: relative;}#sk-container-id-3 div.sk-item {position: relative;z-index: 1;}#sk-container-id-3 div.sk-parallel {display: flex;align-items: stretch;justify-content: center;background-color: white;position: relative;}#sk-container-id-3 div.sk-item::before, #sk-container-id-3 div.sk-parallel-item::before {content: \"\";position: absolute;border-left: 1px solid gray;box-sizing: border-box;top: 0;bottom: 0;left: 50%;z-index: -1;}#sk-container-id-3 div.sk-parallel-item {display: flex;flex-direction: column;z-index: 1;position: relative;background-color: white;}#sk-container-id-3 div.sk-parallel-item:first-child::after {align-self: flex-end;width: 50%;}#sk-container-id-3 div.sk-parallel-item:last-child::after {align-self: flex-start;width: 50%;}#sk-container-id-3 div.sk-parallel-item:only-child::after {width: 0;}#sk-container-id-3 div.sk-dashed-wrapped {border: 1px dashed gray;margin: 0 0.4em 0.5em 0.4em;box-sizing: border-box;padding-bottom: 0.4em;background-color: white;}#sk-container-id-3 div.sk-label label {font-family: monospace;font-weight: bold;display: inline-block;line-height: 1.2em;}#sk-container-id-3 div.sk-label-container {text-align: center;}#sk-container-id-3 div.sk-container {/* jupyter's `normalize.less` sets `[hidden] { display: none; }` but bootstrap.min.css set `[hidden] { display: none !important; }` so we also need the `!important` here to be able to override the default hidden behavior on the sphinx rendered scikit-learn.org. See: https://github.com/scikit-learn/scikit-learn/issues/21755 */display: inline-block !important;position: relative;}#sk-container-id-3 div.sk-text-repr-fallback {display: none;}</style><div id=\"sk-container-id-3\" class=\"sk-top-container\"><div class=\"sk-text-repr-fallback\"><pre>RandomForestClassifier()</pre><b>In a Jupyter environment, please rerun this cell to show the HTML representation or trust the notebook. <br />On GitHub, the HTML representation is unable to render, please try loading this page with nbviewer.org.</b></div><div class=\"sk-container\" hidden><div class=\"sk-item\"><div class=\"sk-estimator sk-toggleable\"><input class=\"sk-toggleable__control sk-hidden--visually\" id=\"sk-estimator-id-3\" type=\"checkbox\" checked><label for=\"sk-estimator-id-3\" class=\"sk-toggleable__label sk-toggleable__label-arrow\">RandomForestClassifier</label><div class=\"sk-toggleable__content\"><pre>RandomForestClassifier()</pre></div></div></div></div></div>"
            ]
          },
          "metadata": {},
          "execution_count": 45
        }
      ]
    },
    {
      "cell_type": "code",
      "source": [
        "print(classification_report(y_test,dt.predict(x_test)))"
      ],
      "metadata": {
        "colab": {
          "base_uri": "https://localhost:8080/"
        },
        "id": "l4G7XthTl_b3",
        "outputId": "a9526247-8366-413f-fb80-66e8874a3ad6"
      },
      "execution_count": null,
      "outputs": [
        {
          "output_type": "stream",
          "name": "stdout",
          "text": [
            "              precision    recall  f1-score   support\n",
            "\n",
            "           0       0.77      0.71      0.74       112\n",
            "           1       0.75      0.80      0.78       122\n",
            "\n",
            "    accuracy                           0.76       234\n",
            "   macro avg       0.76      0.76      0.76       234\n",
            "weighted avg       0.76      0.76      0.76       234\n",
            "\n"
          ]
        }
      ]
    },
    {
      "cell_type": "code",
      "source": [
        "rfr.predict([[1,1, 0, 1, 1, 4276, 1542,145, 240, 0,1]])"
      ],
      "metadata": {
        "colab": {
          "base_uri": "https://localhost:8080/"
        },
        "id": "ebgBdXQ0mDs2",
        "outputId": "90d046aa-8892-44e9-97f2-01c7e0fbc56b"
      },
      "execution_count": null,
      "outputs": [
        {
          "output_type": "execute_result",
          "data": {
            "text/plain": [
              "array([0])"
            ]
          },
          "metadata": {},
          "execution_count": 47
        }
      ]
    },
    {
      "cell_type": "code",
      "source": [
        "knn = KNeighborsClassifier()\n",
        "knn.fit(x_train,y_train)"
      ],
      "metadata": {
        "colab": {
          "base_uri": "https://localhost:8080/",
          "height": 74
        },
        "id": "U_S03Wp5mLBu",
        "outputId": "2f8089ef-0aad-4eb9-8f5e-b9eaa718e8cd"
      },
      "execution_count": null,
      "outputs": [
        {
          "output_type": "execute_result",
          "data": {
            "text/plain": [
              "KNeighborsClassifier()"
            ],
            "text/html": [
              "<style>#sk-container-id-4 {color: black;background-color: white;}#sk-container-id-4 pre{padding: 0;}#sk-container-id-4 div.sk-toggleable {background-color: white;}#sk-container-id-4 label.sk-toggleable__label {cursor: pointer;display: block;width: 100%;margin-bottom: 0;padding: 0.3em;box-sizing: border-box;text-align: center;}#sk-container-id-4 label.sk-toggleable__label-arrow:before {content: \"▸\";float: left;margin-right: 0.25em;color: #696969;}#sk-container-id-4 label.sk-toggleable__label-arrow:hover:before {color: black;}#sk-container-id-4 div.sk-estimator:hover label.sk-toggleable__label-arrow:before {color: black;}#sk-container-id-4 div.sk-toggleable__content {max-height: 0;max-width: 0;overflow: hidden;text-align: left;background-color: #f0f8ff;}#sk-container-id-4 div.sk-toggleable__content pre {margin: 0.2em;color: black;border-radius: 0.25em;background-color: #f0f8ff;}#sk-container-id-4 input.sk-toggleable__control:checked~div.sk-toggleable__content {max-height: 200px;max-width: 100%;overflow: auto;}#sk-container-id-4 input.sk-toggleable__control:checked~label.sk-toggleable__label-arrow:before {content: \"▾\";}#sk-container-id-4 div.sk-estimator input.sk-toggleable__control:checked~label.sk-toggleable__label {background-color: #d4ebff;}#sk-container-id-4 div.sk-label input.sk-toggleable__control:checked~label.sk-toggleable__label {background-color: #d4ebff;}#sk-container-id-4 input.sk-hidden--visually {border: 0;clip: rect(1px 1px 1px 1px);clip: rect(1px, 1px, 1px, 1px);height: 1px;margin: -1px;overflow: hidden;padding: 0;position: absolute;width: 1px;}#sk-container-id-4 div.sk-estimator {font-family: monospace;background-color: #f0f8ff;border: 1px dotted black;border-radius: 0.25em;box-sizing: border-box;margin-bottom: 0.5em;}#sk-container-id-4 div.sk-estimator:hover {background-color: #d4ebff;}#sk-container-id-4 div.sk-parallel-item::after {content: \"\";width: 100%;border-bottom: 1px solid gray;flex-grow: 1;}#sk-container-id-4 div.sk-label:hover label.sk-toggleable__label {background-color: #d4ebff;}#sk-container-id-4 div.sk-serial::before {content: \"\";position: absolute;border-left: 1px solid gray;box-sizing: border-box;top: 0;bottom: 0;left: 50%;z-index: 0;}#sk-container-id-4 div.sk-serial {display: flex;flex-direction: column;align-items: center;background-color: white;padding-right: 0.2em;padding-left: 0.2em;position: relative;}#sk-container-id-4 div.sk-item {position: relative;z-index: 1;}#sk-container-id-4 div.sk-parallel {display: flex;align-items: stretch;justify-content: center;background-color: white;position: relative;}#sk-container-id-4 div.sk-item::before, #sk-container-id-4 div.sk-parallel-item::before {content: \"\";position: absolute;border-left: 1px solid gray;box-sizing: border-box;top: 0;bottom: 0;left: 50%;z-index: -1;}#sk-container-id-4 div.sk-parallel-item {display: flex;flex-direction: column;z-index: 1;position: relative;background-color: white;}#sk-container-id-4 div.sk-parallel-item:first-child::after {align-self: flex-end;width: 50%;}#sk-container-id-4 div.sk-parallel-item:last-child::after {align-self: flex-start;width: 50%;}#sk-container-id-4 div.sk-parallel-item:only-child::after {width: 0;}#sk-container-id-4 div.sk-dashed-wrapped {border: 1px dashed gray;margin: 0 0.4em 0.5em 0.4em;box-sizing: border-box;padding-bottom: 0.4em;background-color: white;}#sk-container-id-4 div.sk-label label {font-family: monospace;font-weight: bold;display: inline-block;line-height: 1.2em;}#sk-container-id-4 div.sk-label-container {text-align: center;}#sk-container-id-4 div.sk-container {/* jupyter's `normalize.less` sets `[hidden] { display: none; }` but bootstrap.min.css set `[hidden] { display: none !important; }` so we also need the `!important` here to be able to override the default hidden behavior on the sphinx rendered scikit-learn.org. See: https://github.com/scikit-learn/scikit-learn/issues/21755 */display: inline-block !important;position: relative;}#sk-container-id-4 div.sk-text-repr-fallback {display: none;}</style><div id=\"sk-container-id-4\" class=\"sk-top-container\"><div class=\"sk-text-repr-fallback\"><pre>KNeighborsClassifier()</pre><b>In a Jupyter environment, please rerun this cell to show the HTML representation or trust the notebook. <br />On GitHub, the HTML representation is unable to render, please try loading this page with nbviewer.org.</b></div><div class=\"sk-container\" hidden><div class=\"sk-item\"><div class=\"sk-estimator sk-toggleable\"><input class=\"sk-toggleable__control sk-hidden--visually\" id=\"sk-estimator-id-4\" type=\"checkbox\" checked><label for=\"sk-estimator-id-4\" class=\"sk-toggleable__label sk-toggleable__label-arrow\">KNeighborsClassifier</label><div class=\"sk-toggleable__content\"><pre>KNeighborsClassifier()</pre></div></div></div></div></div>"
            ]
          },
          "metadata": {},
          "execution_count": 48
        }
      ]
    },
    {
      "cell_type": "code",
      "source": [
        "print(classification_report(y_test,dt.predict(x_test)))"
      ],
      "metadata": {
        "colab": {
          "base_uri": "https://localhost:8080/"
        },
        "id": "ZcHV6R1PmOfu",
        "outputId": "277b431b-8758-47c5-8a91-2cec30c43ede"
      },
      "execution_count": null,
      "outputs": [
        {
          "output_type": "stream",
          "name": "stdout",
          "text": [
            "              precision    recall  f1-score   support\n",
            "\n",
            "           0       0.77      0.71      0.74       112\n",
            "           1       0.75      0.80      0.78       122\n",
            "\n",
            "    accuracy                           0.76       234\n",
            "   macro avg       0.76      0.76      0.76       234\n",
            "weighted avg       0.76      0.76      0.76       234\n",
            "\n"
          ]
        }
      ]
    },
    {
      "cell_type": "code",
      "source": [
        "knn.predict([[1,1,0,1,1,4276,1542,145,240,0,1]])"
      ],
      "metadata": {
        "colab": {
          "base_uri": "https://localhost:8080/"
        },
        "id": "iNus3FOimSdt",
        "outputId": "55cf147d-8345-4ecf-9c4a-644c1a80deef"
      },
      "execution_count": null,
      "outputs": [
        {
          "output_type": "execute_result",
          "data": {
            "text/plain": [
              "array([1])"
            ]
          },
          "metadata": {},
          "execution_count": 50
        }
      ]
    },
    {
      "cell_type": "code",
      "source": [
        "xgb = GradientBoostingClassifier()\n",
        "xgb.fit(x_train,y_train)\n"
      ],
      "metadata": {
        "colab": {
          "base_uri": "https://localhost:8080/",
          "height": 74
        },
        "id": "kVerwZjmmZF1",
        "outputId": "97d06ade-2c8c-4b99-da8a-2168e822864e"
      },
      "execution_count": null,
      "outputs": [
        {
          "output_type": "execute_result",
          "data": {
            "text/plain": [
              "GradientBoostingClassifier()"
            ],
            "text/html": [
              "<style>#sk-container-id-5 {color: black;background-color: white;}#sk-container-id-5 pre{padding: 0;}#sk-container-id-5 div.sk-toggleable {background-color: white;}#sk-container-id-5 label.sk-toggleable__label {cursor: pointer;display: block;width: 100%;margin-bottom: 0;padding: 0.3em;box-sizing: border-box;text-align: center;}#sk-container-id-5 label.sk-toggleable__label-arrow:before {content: \"▸\";float: left;margin-right: 0.25em;color: #696969;}#sk-container-id-5 label.sk-toggleable__label-arrow:hover:before {color: black;}#sk-container-id-5 div.sk-estimator:hover label.sk-toggleable__label-arrow:before {color: black;}#sk-container-id-5 div.sk-toggleable__content {max-height: 0;max-width: 0;overflow: hidden;text-align: left;background-color: #f0f8ff;}#sk-container-id-5 div.sk-toggleable__content pre {margin: 0.2em;color: black;border-radius: 0.25em;background-color: #f0f8ff;}#sk-container-id-5 input.sk-toggleable__control:checked~div.sk-toggleable__content {max-height: 200px;max-width: 100%;overflow: auto;}#sk-container-id-5 input.sk-toggleable__control:checked~label.sk-toggleable__label-arrow:before {content: \"▾\";}#sk-container-id-5 div.sk-estimator input.sk-toggleable__control:checked~label.sk-toggleable__label {background-color: #d4ebff;}#sk-container-id-5 div.sk-label input.sk-toggleable__control:checked~label.sk-toggleable__label {background-color: #d4ebff;}#sk-container-id-5 input.sk-hidden--visually {border: 0;clip: rect(1px 1px 1px 1px);clip: rect(1px, 1px, 1px, 1px);height: 1px;margin: -1px;overflow: hidden;padding: 0;position: absolute;width: 1px;}#sk-container-id-5 div.sk-estimator {font-family: monospace;background-color: #f0f8ff;border: 1px dotted black;border-radius: 0.25em;box-sizing: border-box;margin-bottom: 0.5em;}#sk-container-id-5 div.sk-estimator:hover {background-color: #d4ebff;}#sk-container-id-5 div.sk-parallel-item::after {content: \"\";width: 100%;border-bottom: 1px solid gray;flex-grow: 1;}#sk-container-id-5 div.sk-label:hover label.sk-toggleable__label {background-color: #d4ebff;}#sk-container-id-5 div.sk-serial::before {content: \"\";position: absolute;border-left: 1px solid gray;box-sizing: border-box;top: 0;bottom: 0;left: 50%;z-index: 0;}#sk-container-id-5 div.sk-serial {display: flex;flex-direction: column;align-items: center;background-color: white;padding-right: 0.2em;padding-left: 0.2em;position: relative;}#sk-container-id-5 div.sk-item {position: relative;z-index: 1;}#sk-container-id-5 div.sk-parallel {display: flex;align-items: stretch;justify-content: center;background-color: white;position: relative;}#sk-container-id-5 div.sk-item::before, #sk-container-id-5 div.sk-parallel-item::before {content: \"\";position: absolute;border-left: 1px solid gray;box-sizing: border-box;top: 0;bottom: 0;left: 50%;z-index: -1;}#sk-container-id-5 div.sk-parallel-item {display: flex;flex-direction: column;z-index: 1;position: relative;background-color: white;}#sk-container-id-5 div.sk-parallel-item:first-child::after {align-self: flex-end;width: 50%;}#sk-container-id-5 div.sk-parallel-item:last-child::after {align-self: flex-start;width: 50%;}#sk-container-id-5 div.sk-parallel-item:only-child::after {width: 0;}#sk-container-id-5 div.sk-dashed-wrapped {border: 1px dashed gray;margin: 0 0.4em 0.5em 0.4em;box-sizing: border-box;padding-bottom: 0.4em;background-color: white;}#sk-container-id-5 div.sk-label label {font-family: monospace;font-weight: bold;display: inline-block;line-height: 1.2em;}#sk-container-id-5 div.sk-label-container {text-align: center;}#sk-container-id-5 div.sk-container {/* jupyter's `normalize.less` sets `[hidden] { display: none; }` but bootstrap.min.css set `[hidden] { display: none !important; }` so we also need the `!important` here to be able to override the default hidden behavior on the sphinx rendered scikit-learn.org. See: https://github.com/scikit-learn/scikit-learn/issues/21755 */display: inline-block !important;position: relative;}#sk-container-id-5 div.sk-text-repr-fallback {display: none;}</style><div id=\"sk-container-id-5\" class=\"sk-top-container\"><div class=\"sk-text-repr-fallback\"><pre>GradientBoostingClassifier()</pre><b>In a Jupyter environment, please rerun this cell to show the HTML representation or trust the notebook. <br />On GitHub, the HTML representation is unable to render, please try loading this page with nbviewer.org.</b></div><div class=\"sk-container\" hidden><div class=\"sk-item\"><div class=\"sk-estimator sk-toggleable\"><input class=\"sk-toggleable__control sk-hidden--visually\" id=\"sk-estimator-id-5\" type=\"checkbox\" checked><label for=\"sk-estimator-id-5\" class=\"sk-toggleable__label sk-toggleable__label-arrow\">GradientBoostingClassifier</label><div class=\"sk-toggleable__content\"><pre>GradientBoostingClassifier()</pre></div></div></div></div></div>"
            ]
          },
          "metadata": {},
          "execution_count": 51
        }
      ]
    },
    {
      "cell_type": "code",
      "source": [
        "print(classification_report(y_test,dt.predict(x_test)))\n"
      ],
      "metadata": {
        "colab": {
          "base_uri": "https://localhost:8080/"
        },
        "id": "BER3MntLmdF9",
        "outputId": "5990f93e-8062-401d-f338-852d234a13ef"
      },
      "execution_count": null,
      "outputs": [
        {
          "output_type": "stream",
          "name": "stdout",
          "text": [
            "              precision    recall  f1-score   support\n",
            "\n",
            "           0       0.77      0.71      0.74       112\n",
            "           1       0.75      0.80      0.78       122\n",
            "\n",
            "    accuracy                           0.76       234\n",
            "   macro avg       0.76      0.76      0.76       234\n",
            "weighted avg       0.76      0.76      0.76       234\n",
            "\n"
          ]
        }
      ]
    },
    {
      "cell_type": "code",
      "source": [
        "xgb.predict([[1,1, 0, 1, 1, 4276, 1542,145, 240, 0,1]])"
      ],
      "metadata": {
        "colab": {
          "base_uri": "https://localhost:8080/"
        },
        "id": "pnQuuE1Umg9d",
        "outputId": "d03b75ed-661b-4050-822a-91fce87c2197"
      },
      "execution_count": null,
      "outputs": [
        {
          "output_type": "execute_result",
          "data": {
            "text/plain": [
              "array([1])"
            ]
          },
          "metadata": {},
          "execution_count": 53
        }
      ]
    },
    {
      "cell_type": "code",
      "source": [
        "classifier.save(\"loan.h5\")\n",
        "y_pred = classifier.predict(x_test)"
      ],
      "metadata": {
        "colab": {
          "base_uri": "https://localhost:8080/"
        },
        "id": "LDdwzx8_mk6V",
        "outputId": "6432a091-47f7-436c-f00d-9f402e156942"
      },
      "execution_count": null,
      "outputs": [
        {
          "output_type": "stream",
          "name": "stdout",
          "text": [
            "8/8 [==============================] - 0s 3ms/step\n"
          ]
        }
      ]
    },
    {
      "cell_type": "code",
      "source": [
        "y_pred\n"
      ],
      "metadata": {
        "colab": {
          "base_uri": "https://localhost:8080/"
        },
        "id": "TcxqP2hnmoe2",
        "outputId": "9e93659d-887d-4771-d5ad-3548b292ec28"
      },
      "execution_count": null,
      "outputs": [
        {
          "output_type": "execute_result",
          "data": {
            "text/plain": [
              "array([[9.01962340e-01],\n",
              "       [9.15753782e-01],\n",
              "       [8.81384730e-01],\n",
              "       [8.88931036e-01],\n",
              "       [1.93579050e-04],\n",
              "       [9.14487362e-01],\n",
              "       [8.93640518e-01],\n",
              "       [8.85217249e-01],\n",
              "       [1.56687608e-03],\n",
              "       [7.56815672e-01],\n",
              "       [1.71202933e-03],\n",
              "       [7.73346245e-01],\n",
              "       [5.99376440e-01],\n",
              "       [9.45215225e-01],\n",
              "       [1.28541460e-05],\n",
              "       [9.12889719e-01],\n",
              "       [9.87916112e-01],\n",
              "       [4.94978216e-04],\n",
              "       [8.30464244e-01],\n",
              "       [9.47577178e-01],\n",
              "       [6.58377469e-01],\n",
              "       [8.88274670e-01],\n",
              "       [9.35877800e-01],\n",
              "       [3.25810222e-04],\n",
              "       [1.04989245e-04],\n",
              "       [9.61987495e-01],\n",
              "       [9.75043774e-01],\n",
              "       [7.62053430e-01],\n",
              "       [9.86301661e-01],\n",
              "       [9.18268144e-01],\n",
              "       [2.29094985e-05],\n",
              "       [8.88296843e-01],\n",
              "       [9.14759576e-01],\n",
              "       [3.16016078e-01],\n",
              "       [8.72870147e-01],\n",
              "       [1.57376763e-03],\n",
              "       [8.79902840e-01],\n",
              "       [7.85496593e-01],\n",
              "       [6.76390767e-01],\n",
              "       [7.96486437e-01],\n",
              "       [8.72521758e-01],\n",
              "       [7.12752879e-01],\n",
              "       [9.53974068e-01],\n",
              "       [6.03141785e-01],\n",
              "       [1.67374033e-04],\n",
              "       [8.87659669e-01],\n",
              "       [2.32500330e-04],\n",
              "       [5.72016984e-02],\n",
              "       [9.97263968e-01],\n",
              "       [5.78108666e-05],\n",
              "       [9.02500391e-01],\n",
              "       [8.60996604e-01],\n",
              "       [9.40496743e-01],\n",
              "       [4.58562762e-01],\n",
              "       [8.08189332e-01],\n",
              "       [6.26531124e-01],\n",
              "       [1.22632235e-04],\n",
              "       [2.12621942e-01],\n",
              "       [5.64690411e-01],\n",
              "       [4.28288132e-01],\n",
              "       [7.28011072e-01],\n",
              "       [6.44603193e-01],\n",
              "       [1.29928827e-01],\n",
              "       [9.72529506e-06],\n",
              "       [7.09720552e-01],\n",
              "       [1.31500274e-01],\n",
              "       [7.10148513e-01],\n",
              "       [2.21005931e-01],\n",
              "       [9.80572462e-01],\n",
              "       [8.49823117e-01],\n",
              "       [8.59368205e-01],\n",
              "       [1.50203601e-01],\n",
              "       [7.48401046e-01],\n",
              "       [1.16948073e-03],\n",
              "       [1.94057807e-01],\n",
              "       [9.34502006e-01],\n",
              "       [9.39871430e-01],\n",
              "       [6.63278639e-01],\n",
              "       [7.37774826e-04],\n",
              "       [4.35458096e-05],\n",
              "       [6.10881448e-01],\n",
              "       [5.02728224e-01],\n",
              "       [7.91067123e-01],\n",
              "       [9.54550087e-01],\n",
              "       [6.24426365e-01],\n",
              "       [9.38929200e-01],\n",
              "       [9.83865678e-01],\n",
              "       [9.80901599e-01],\n",
              "       [4.52383101e-04],\n",
              "       [8.12667787e-01],\n",
              "       [1.04282252e-01],\n",
              "       [3.74856085e-01],\n",
              "       [9.60130394e-01],\n",
              "       [8.90512466e-01],\n",
              "       [7.83274651e-01],\n",
              "       [9.84926820e-01],\n",
              "       [7.28150306e-04],\n",
              "       [9.86911178e-01],\n",
              "       [9.82296050e-01],\n",
              "       [9.93516684e-01],\n",
              "       [4.41884564e-04],\n",
              "       [6.58948324e-04],\n",
              "       [7.48578370e-01],\n",
              "       [9.68950272e-01],\n",
              "       [5.84642310e-03],\n",
              "       [9.71604407e-01],\n",
              "       [3.53312265e-04],\n",
              "       [5.50870776e-01],\n",
              "       [8.17741930e-01],\n",
              "       [9.91628468e-01],\n",
              "       [7.53520906e-01],\n",
              "       [2.86529394e-04],\n",
              "       [8.55252445e-01],\n",
              "       [8.59005153e-01],\n",
              "       [4.44055535e-02],\n",
              "       [8.67591560e-01],\n",
              "       [5.31244457e-01],\n",
              "       [9.26030636e-01],\n",
              "       [5.06010652e-01],\n",
              "       [1.96100184e-04],\n",
              "       [4.00867723e-02],\n",
              "       [8.50510836e-01],\n",
              "       [8.63641143e-01],\n",
              "       [9.51976597e-01],\n",
              "       [8.41985285e-01],\n",
              "       [7.45040357e-01],\n",
              "       [9.63998795e-01],\n",
              "       [1.13072008e-01],\n",
              "       [8.39946628e-01],\n",
              "       [2.00135182e-04],\n",
              "       [9.36817706e-01],\n",
              "       [8.13713074e-01],\n",
              "       [7.65343189e-01],\n",
              "       [8.68627012e-01],\n",
              "       [4.32194591e-01],\n",
              "       [2.10983202e-01],\n",
              "       [9.48827267e-01],\n",
              "       [7.45279610e-01],\n",
              "       [6.49097681e-01],\n",
              "       [3.66840124e-01],\n",
              "       [8.58757436e-01],\n",
              "       [8.59687686e-01],\n",
              "       [3.43447626e-01],\n",
              "       [8.44278216e-01],\n",
              "       [8.41745317e-01],\n",
              "       [8.64227176e-01],\n",
              "       [7.69402146e-01],\n",
              "       [3.92796904e-01],\n",
              "       [8.10645580e-01],\n",
              "       [9.85878289e-01],\n",
              "       [9.53509867e-01],\n",
              "       [1.10778987e-01],\n",
              "       [5.98598838e-01],\n",
              "       [1.88055448e-04],\n",
              "       [1.15314324e-03],\n",
              "       [1.10952598e-04],\n",
              "       [1.41664670e-04],\n",
              "       [3.96572948e-01],\n",
              "       [8.62630010e-01],\n",
              "       [4.34995174e-01],\n",
              "       [9.21368957e-01],\n",
              "       [6.60958176e-05],\n",
              "       [8.51445890e-04],\n",
              "       [7.37181664e-01],\n",
              "       [1.47544208e-03],\n",
              "       [8.87882531e-01],\n",
              "       [9.90587294e-01],\n",
              "       [7.83527613e-01],\n",
              "       [6.53463900e-02],\n",
              "       [8.74068856e-01],\n",
              "       [6.05925739e-01],\n",
              "       [9.77275908e-01],\n",
              "       [6.36357129e-01],\n",
              "       [1.16821262e-03],\n",
              "       [8.08374166e-01],\n",
              "       [1.45511231e-05],\n",
              "       [3.23783219e-01],\n",
              "       [4.27307299e-04],\n",
              "       [6.40554205e-02],\n",
              "       [4.13502127e-01],\n",
              "       [9.95658159e-01],\n",
              "       [6.18423998e-01],\n",
              "       [7.30509639e-01],\n",
              "       [3.84103298e-01],\n",
              "       [5.49511835e-02],\n",
              "       [2.67985542e-05],\n",
              "       [9.70377028e-01],\n",
              "       [7.91574776e-01],\n",
              "       [5.05155146e-01],\n",
              "       [5.37754921e-03],\n",
              "       [9.96585250e-01],\n",
              "       [1.92835182e-06],\n",
              "       [9.61942613e-01],\n",
              "       [8.95063937e-01],\n",
              "       [6.85887754e-01],\n",
              "       [7.39179843e-04],\n",
              "       [6.59147918e-01],\n",
              "       [1.15247280e-03],\n",
              "       [5.44015169e-01],\n",
              "       [3.49037021e-01],\n",
              "       [1.44345403e-01],\n",
              "       [6.99557224e-03],\n",
              "       [9.56269443e-01],\n",
              "       [3.38186711e-01],\n",
              "       [9.92626607e-01],\n",
              "       [1.45499152e-05],\n",
              "       [1.24234852e-04],\n",
              "       [8.63752544e-01],\n",
              "       [7.47933328e-01],\n",
              "       [7.48987734e-01],\n",
              "       [9.95400190e-01],\n",
              "       [8.60834241e-01],\n",
              "       [8.19225252e-01],\n",
              "       [9.93728817e-01],\n",
              "       [2.12257164e-05],\n",
              "       [7.74565756e-01],\n",
              "       [5.13082623e-01],\n",
              "       [7.95142129e-02],\n",
              "       [4.37613373e-04],\n",
              "       [8.91571283e-01],\n",
              "       [5.41605428e-03],\n",
              "       [8.55636895e-01],\n",
              "       [3.44729749e-04],\n",
              "       [8.05912793e-01],\n",
              "       [8.38719726e-01],\n",
              "       [9.90038514e-01],\n",
              "       [9.96871829e-01],\n",
              "       [1.23405512e-02],\n",
              "       [9.29605544e-01],\n",
              "       [2.11794734e-01],\n",
              "       [7.45742440e-01],\n",
              "       [5.41425869e-02],\n",
              "       [9.50487554e-01],\n",
              "       [1.18126895e-03]], dtype=float32)"
            ]
          },
          "metadata": {},
          "execution_count": 55
        }
      ]
    },
    {
      "cell_type": "code",
      "source": [
        "y_pred = (y_pred > 0.5)\n",
        "y_pred"
      ],
      "metadata": {
        "colab": {
          "base_uri": "https://localhost:8080/"
        },
        "id": "Zr6ajqSHmvXt",
        "outputId": "d6cde370-4391-4ec7-bfaf-ea49e82967ec"
      },
      "execution_count": null,
      "outputs": [
        {
          "output_type": "execute_result",
          "data": {
            "text/plain": [
              "array([[ True],\n",
              "       [ True],\n",
              "       [ True],\n",
              "       [ True],\n",
              "       [False],\n",
              "       [ True],\n",
              "       [ True],\n",
              "       [ True],\n",
              "       [False],\n",
              "       [ True],\n",
              "       [False],\n",
              "       [ True],\n",
              "       [ True],\n",
              "       [ True],\n",
              "       [False],\n",
              "       [ True],\n",
              "       [ True],\n",
              "       [False],\n",
              "       [ True],\n",
              "       [ True],\n",
              "       [ True],\n",
              "       [ True],\n",
              "       [ True],\n",
              "       [False],\n",
              "       [False],\n",
              "       [ True],\n",
              "       [ True],\n",
              "       [ True],\n",
              "       [ True],\n",
              "       [ True],\n",
              "       [False],\n",
              "       [ True],\n",
              "       [ True],\n",
              "       [False],\n",
              "       [ True],\n",
              "       [False],\n",
              "       [ True],\n",
              "       [ True],\n",
              "       [ True],\n",
              "       [ True],\n",
              "       [ True],\n",
              "       [ True],\n",
              "       [ True],\n",
              "       [ True],\n",
              "       [False],\n",
              "       [ True],\n",
              "       [False],\n",
              "       [False],\n",
              "       [ True],\n",
              "       [False],\n",
              "       [ True],\n",
              "       [ True],\n",
              "       [ True],\n",
              "       [False],\n",
              "       [ True],\n",
              "       [ True],\n",
              "       [False],\n",
              "       [False],\n",
              "       [ True],\n",
              "       [False],\n",
              "       [ True],\n",
              "       [ True],\n",
              "       [False],\n",
              "       [False],\n",
              "       [ True],\n",
              "       [False],\n",
              "       [ True],\n",
              "       [False],\n",
              "       [ True],\n",
              "       [ True],\n",
              "       [ True],\n",
              "       [False],\n",
              "       [ True],\n",
              "       [False],\n",
              "       [False],\n",
              "       [ True],\n",
              "       [ True],\n",
              "       [ True],\n",
              "       [False],\n",
              "       [False],\n",
              "       [ True],\n",
              "       [ True],\n",
              "       [ True],\n",
              "       [ True],\n",
              "       [ True],\n",
              "       [ True],\n",
              "       [ True],\n",
              "       [ True],\n",
              "       [False],\n",
              "       [ True],\n",
              "       [False],\n",
              "       [False],\n",
              "       [ True],\n",
              "       [ True],\n",
              "       [ True],\n",
              "       [ True],\n",
              "       [False],\n",
              "       [ True],\n",
              "       [ True],\n",
              "       [ True],\n",
              "       [False],\n",
              "       [False],\n",
              "       [ True],\n",
              "       [ True],\n",
              "       [False],\n",
              "       [ True],\n",
              "       [False],\n",
              "       [ True],\n",
              "       [ True],\n",
              "       [ True],\n",
              "       [ True],\n",
              "       [False],\n",
              "       [ True],\n",
              "       [ True],\n",
              "       [False],\n",
              "       [ True],\n",
              "       [ True],\n",
              "       [ True],\n",
              "       [ True],\n",
              "       [False],\n",
              "       [False],\n",
              "       [ True],\n",
              "       [ True],\n",
              "       [ True],\n",
              "       [ True],\n",
              "       [ True],\n",
              "       [ True],\n",
              "       [False],\n",
              "       [ True],\n",
              "       [False],\n",
              "       [ True],\n",
              "       [ True],\n",
              "       [ True],\n",
              "       [ True],\n",
              "       [False],\n",
              "       [False],\n",
              "       [ True],\n",
              "       [ True],\n",
              "       [ True],\n",
              "       [False],\n",
              "       [ True],\n",
              "       [ True],\n",
              "       [False],\n",
              "       [ True],\n",
              "       [ True],\n",
              "       [ True],\n",
              "       [ True],\n",
              "       [False],\n",
              "       [ True],\n",
              "       [ True],\n",
              "       [ True],\n",
              "       [False],\n",
              "       [ True],\n",
              "       [False],\n",
              "       [False],\n",
              "       [False],\n",
              "       [False],\n",
              "       [False],\n",
              "       [ True],\n",
              "       [False],\n",
              "       [ True],\n",
              "       [False],\n",
              "       [False],\n",
              "       [ True],\n",
              "       [False],\n",
              "       [ True],\n",
              "       [ True],\n",
              "       [ True],\n",
              "       [False],\n",
              "       [ True],\n",
              "       [ True],\n",
              "       [ True],\n",
              "       [ True],\n",
              "       [False],\n",
              "       [ True],\n",
              "       [False],\n",
              "       [False],\n",
              "       [False],\n",
              "       [False],\n",
              "       [False],\n",
              "       [ True],\n",
              "       [ True],\n",
              "       [ True],\n",
              "       [False],\n",
              "       [False],\n",
              "       [False],\n",
              "       [ True],\n",
              "       [ True],\n",
              "       [ True],\n",
              "       [False],\n",
              "       [ True],\n",
              "       [False],\n",
              "       [ True],\n",
              "       [ True],\n",
              "       [ True],\n",
              "       [False],\n",
              "       [ True],\n",
              "       [False],\n",
              "       [ True],\n",
              "       [False],\n",
              "       [False],\n",
              "       [False],\n",
              "       [ True],\n",
              "       [False],\n",
              "       [ True],\n",
              "       [False],\n",
              "       [False],\n",
              "       [ True],\n",
              "       [ True],\n",
              "       [ True],\n",
              "       [ True],\n",
              "       [ True],\n",
              "       [ True],\n",
              "       [ True],\n",
              "       [False],\n",
              "       [ True],\n",
              "       [ True],\n",
              "       [False],\n",
              "       [False],\n",
              "       [ True],\n",
              "       [False],\n",
              "       [ True],\n",
              "       [False],\n",
              "       [ True],\n",
              "       [ True],\n",
              "       [ True],\n",
              "       [ True],\n",
              "       [False],\n",
              "       [ True],\n",
              "       [False],\n",
              "       [ True],\n",
              "       [False],\n",
              "       [ True],\n",
              "       [False]])"
            ]
          },
          "metadata": {},
          "execution_count": 56
        }
      ]
    },
    {
      "cell_type": "code",
      "source": [
        "def predict_exit(sample_value):\n",
        "  sample_value = np.array(sample_value)\n",
        "  sample_value = sample_value.reshape(1, -1)\n",
        "  sample_valu = sc.transform(sample_value)\n",
        "  return classifier.predict(sample_value)"
      ],
      "metadata": {
        "id": "qQNr4TZKm11W"
      },
      "execution_count": null,
      "outputs": []
    },
    {
      "cell_type": "code",
      "source": [
        "sample_value = [[1,1,0,1,1,4276,1542,145,240,0,1]]"
      ],
      "metadata": {
        "id": "mgdtsiHYm5Rv"
      },
      "execution_count": null,
      "outputs": []
    },
    {
      "cell_type": "code",
      "source": [
        "if predict_exit(sample_value)>0.5:\n",
        "  print('Prediction: High Chance of Loan Approval!')\n",
        "else:\n",
        "  print('Prediction: Low Chance of Loan Approval!')\n"
      ],
      "metadata": {
        "colab": {
          "base_uri": "https://localhost:8080/"
        },
        "id": "gCt9Kbbwm-ZX",
        "outputId": "cfef4a0c-d447-452d-d8e7-13b6d78873d8"
      },
      "execution_count": null,
      "outputs": [
        {
          "output_type": "stream",
          "name": "stdout",
          "text": [
            "1/1 [==============================] - 0s 200ms/step\n",
            "Prediction: High Chance of Loan Approval!\n"
          ]
        }
      ]
    },
    {
      "cell_type": "code",
      "source": [
        "sample_value = [[1,0, 1, 1, 1, 45, 14,45, 240, 1,1]]\n"
      ],
      "metadata": {
        "id": "qKz7Sm6pnBd1"
      },
      "execution_count": null,
      "outputs": []
    },
    {
      "cell_type": "code",
      "source": [
        "if predict_exit(sample_value)>0.5:\n",
        "  print('Prediction: High Chance of Loan Approval!')\n",
        "else:\n",
        "  print('Prediction: Low Chance of Loan Approval!')"
      ],
      "metadata": {
        "colab": {
          "base_uri": "https://localhost:8080/"
        },
        "id": "O_nx6J2dnHi-",
        "outputId": "1f57ff8c-dab9-4ecd-df6d-989db3b21cde"
      },
      "execution_count": null,
      "outputs": [
        {
          "output_type": "stream",
          "name": "stdout",
          "text": [
            "1/1 [==============================] - 0s 66ms/step\n",
            "Prediction: Low Chance of Loan Approval!\n"
          ]
        }
      ]
    },
    {
      "cell_type": "code",
      "source": [
        "#saving the  model\n",
        "pickle.dump(rfr,open('model.pkl','wb'))"
      ],
      "metadata": {
        "id": "CReNOjKynLCl"
      },
      "execution_count": null,
      "outputs": []
    },
    {
      "cell_type": "code",
      "source": [
        "pickle.dump(sc,open('scale.pkl','wb'))"
      ],
      "metadata": {
        "id": "6IDzHQ7AnO7B"
      },
      "execution_count": null,
      "outputs": []
    }
  ]
}